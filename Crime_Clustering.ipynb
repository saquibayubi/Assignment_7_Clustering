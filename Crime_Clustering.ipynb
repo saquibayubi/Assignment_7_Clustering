{
 "cells": [
  {
   "cell_type": "markdown",
   "id": "60b24a0f",
   "metadata": {},
   "source": [
    "# Crime Data Clustering"
   ]
  },
  {
   "cell_type": "code",
   "execution_count": 1,
   "id": "481d876f",
   "metadata": {},
   "outputs": [],
   "source": [
    "import pandas as pd\n",
    "import numpy as np\n",
    "import scipy.cluster.hierarchy as sch\n",
    "from sklearn.cluster import AgglomerativeClustering\n",
    "import seaborn as sns\n",
    "import matplotlib.pyplot as plt"
   ]
  },
  {
   "cell_type": "code",
   "execution_count": 2,
   "id": "720ef8e2",
   "metadata": {},
   "outputs": [
    {
     "data": {
      "text/html": [
       "<div>\n",
       "<style scoped>\n",
       "    .dataframe tbody tr th:only-of-type {\n",
       "        vertical-align: middle;\n",
       "    }\n",
       "\n",
       "    .dataframe tbody tr th {\n",
       "        vertical-align: top;\n",
       "    }\n",
       "\n",
       "    .dataframe thead th {\n",
       "        text-align: right;\n",
       "    }\n",
       "</style>\n",
       "<table border=\"1\" class=\"dataframe\">\n",
       "  <thead>\n",
       "    <tr style=\"text-align: right;\">\n",
       "      <th></th>\n",
       "      <th>City</th>\n",
       "      <th>Murder</th>\n",
       "      <th>Assault</th>\n",
       "      <th>UrbanPop</th>\n",
       "      <th>Rape</th>\n",
       "    </tr>\n",
       "  </thead>\n",
       "  <tbody>\n",
       "    <tr>\n",
       "      <th>0</th>\n",
       "      <td>Alabama</td>\n",
       "      <td>13.2</td>\n",
       "      <td>236</td>\n",
       "      <td>58</td>\n",
       "      <td>21.2</td>\n",
       "    </tr>\n",
       "    <tr>\n",
       "      <th>1</th>\n",
       "      <td>Alaska</td>\n",
       "      <td>10.0</td>\n",
       "      <td>263</td>\n",
       "      <td>48</td>\n",
       "      <td>44.5</td>\n",
       "    </tr>\n",
       "    <tr>\n",
       "      <th>2</th>\n",
       "      <td>Arizona</td>\n",
       "      <td>8.1</td>\n",
       "      <td>294</td>\n",
       "      <td>80</td>\n",
       "      <td>31.0</td>\n",
       "    </tr>\n",
       "    <tr>\n",
       "      <th>3</th>\n",
       "      <td>Arkansas</td>\n",
       "      <td>8.8</td>\n",
       "      <td>190</td>\n",
       "      <td>50</td>\n",
       "      <td>19.5</td>\n",
       "    </tr>\n",
       "    <tr>\n",
       "      <th>4</th>\n",
       "      <td>California</td>\n",
       "      <td>9.0</td>\n",
       "      <td>276</td>\n",
       "      <td>91</td>\n",
       "      <td>40.6</td>\n",
       "    </tr>\n",
       "  </tbody>\n",
       "</table>\n",
       "</div>"
      ],
      "text/plain": [
       "         City  Murder  Assault  UrbanPop  Rape\n",
       "0     Alabama    13.2      236        58  21.2\n",
       "1      Alaska    10.0      263        48  44.5\n",
       "2     Arizona     8.1      294        80  31.0\n",
       "3    Arkansas     8.8      190        50  19.5\n",
       "4  California     9.0      276        91  40.6"
      ]
     },
     "execution_count": 2,
     "metadata": {},
     "output_type": "execute_result"
    }
   ],
   "source": [
    "#Load Dataset\n",
    "crm=pd.read_csv(\"C:\\\\Users\\\\Hi\\\\Desktop\\\\Python Datasets\\\\crime_data.csv\")\n",
    "crm.head()"
   ]
  },
  {
   "cell_type": "code",
   "execution_count": 3,
   "id": "443df5ff",
   "metadata": {},
   "outputs": [
    {
     "name": "stdout",
     "output_type": "stream",
     "text": [
      "<class 'pandas.core.frame.DataFrame'>\n",
      "RangeIndex: 50 entries, 0 to 49\n",
      "Data columns (total 5 columns):\n",
      " #   Column    Non-Null Count  Dtype  \n",
      "---  ------    --------------  -----  \n",
      " 0   City      50 non-null     object \n",
      " 1   Murder    50 non-null     float64\n",
      " 2   Assault   50 non-null     int64  \n",
      " 3   UrbanPop  50 non-null     int64  \n",
      " 4   Rape      50 non-null     float64\n",
      "dtypes: float64(2), int64(2), object(1)\n",
      "memory usage: 2.1+ KB\n"
     ]
    }
   ],
   "source": [
    "crm.info()"
   ]
  },
  {
   "cell_type": "code",
   "execution_count": 4,
   "id": "1f576255",
   "metadata": {},
   "outputs": [
    {
     "data": {
      "text/html": [
       "<div>\n",
       "<style scoped>\n",
       "    .dataframe tbody tr th:only-of-type {\n",
       "        vertical-align: middle;\n",
       "    }\n",
       "\n",
       "    .dataframe tbody tr th {\n",
       "        vertical-align: top;\n",
       "    }\n",
       "\n",
       "    .dataframe thead th {\n",
       "        text-align: right;\n",
       "    }\n",
       "</style>\n",
       "<table border=\"1\" class=\"dataframe\">\n",
       "  <thead>\n",
       "    <tr style=\"text-align: right;\">\n",
       "      <th></th>\n",
       "      <th>Murder</th>\n",
       "      <th>Assault</th>\n",
       "      <th>UrbanPop</th>\n",
       "      <th>Rape</th>\n",
       "    </tr>\n",
       "  </thead>\n",
       "  <tbody>\n",
       "    <tr>\n",
       "      <th>count</th>\n",
       "      <td>50.00000</td>\n",
       "      <td>50.000000</td>\n",
       "      <td>50.000000</td>\n",
       "      <td>50.000000</td>\n",
       "    </tr>\n",
       "    <tr>\n",
       "      <th>mean</th>\n",
       "      <td>7.78800</td>\n",
       "      <td>170.760000</td>\n",
       "      <td>65.540000</td>\n",
       "      <td>21.232000</td>\n",
       "    </tr>\n",
       "    <tr>\n",
       "      <th>std</th>\n",
       "      <td>4.35551</td>\n",
       "      <td>83.337661</td>\n",
       "      <td>14.474763</td>\n",
       "      <td>9.366385</td>\n",
       "    </tr>\n",
       "    <tr>\n",
       "      <th>min</th>\n",
       "      <td>0.80000</td>\n",
       "      <td>45.000000</td>\n",
       "      <td>32.000000</td>\n",
       "      <td>7.300000</td>\n",
       "    </tr>\n",
       "    <tr>\n",
       "      <th>25%</th>\n",
       "      <td>4.07500</td>\n",
       "      <td>109.000000</td>\n",
       "      <td>54.500000</td>\n",
       "      <td>15.075000</td>\n",
       "    </tr>\n",
       "    <tr>\n",
       "      <th>50%</th>\n",
       "      <td>7.25000</td>\n",
       "      <td>159.000000</td>\n",
       "      <td>66.000000</td>\n",
       "      <td>20.100000</td>\n",
       "    </tr>\n",
       "    <tr>\n",
       "      <th>75%</th>\n",
       "      <td>11.25000</td>\n",
       "      <td>249.000000</td>\n",
       "      <td>77.750000</td>\n",
       "      <td>26.175000</td>\n",
       "    </tr>\n",
       "    <tr>\n",
       "      <th>max</th>\n",
       "      <td>17.40000</td>\n",
       "      <td>337.000000</td>\n",
       "      <td>91.000000</td>\n",
       "      <td>46.000000</td>\n",
       "    </tr>\n",
       "  </tbody>\n",
       "</table>\n",
       "</div>"
      ],
      "text/plain": [
       "         Murder     Assault   UrbanPop       Rape\n",
       "count  50.00000   50.000000  50.000000  50.000000\n",
       "mean    7.78800  170.760000  65.540000  21.232000\n",
       "std     4.35551   83.337661  14.474763   9.366385\n",
       "min     0.80000   45.000000  32.000000   7.300000\n",
       "25%     4.07500  109.000000  54.500000  15.075000\n",
       "50%     7.25000  159.000000  66.000000  20.100000\n",
       "75%    11.25000  249.000000  77.750000  26.175000\n",
       "max    17.40000  337.000000  91.000000  46.000000"
      ]
     },
     "execution_count": 4,
     "metadata": {},
     "output_type": "execute_result"
    }
   ],
   "source": [
    "crm.describe()"
   ]
  },
  {
   "cell_type": "code",
   "execution_count": 5,
   "id": "4c2ab46d",
   "metadata": {},
   "outputs": [
    {
     "data": {
      "text/plain": [
       "Murder         AxesSubplot(0.125,0.653529;0.227941x0.226471)\n",
       "Assault     AxesSubplot(0.398529,0.653529;0.227941x0.226471)\n",
       "UrbanPop    AxesSubplot(0.672059,0.653529;0.227941x0.226471)\n",
       "Rape           AxesSubplot(0.125,0.381765;0.227941x0.226471)\n",
       "dtype: object"
      ]
     },
     "execution_count": 5,
     "metadata": {},
     "output_type": "execute_result"
    },
    {
     "data": {
      "image/png": "[encoded data removed]",
      "text/plain": [
       "<Figure size 1500x1000 with 9 Axes>"
      ]
     },
     "metadata": {},
     "output_type": "display_data"
    }
   ],
   "source": [
    "crm.plot(kind='box',subplots=True,layout=(3,3),figsize=(15,10)) \n",
    "#here we can see that each column boxplot shows the data is normally distributed except we have outliers in Rape column , we might check the records and can replace,remove or retain the records as per the domain knowledge"
   ]
  },
  {
   "cell_type": "code",
   "execution_count": 6,
   "id": "c8bd61dc",
   "metadata": {},
   "outputs": [
    {
     "data": {
      "text/plain": [
       "<seaborn.axisgrid.PairGrid at 0x286f21fdeb0>"
      ]
     },
     "execution_count": 6,
     "metadata": {},
     "output_type": "execute_result"
    },
    {
     "data": {
      "image/png": "[encoded data removed]",
      "text/plain": [
       "<Figure size 1000x1000 with 20 Axes>"
      ]
     },
     "metadata": {},
     "output_type": "display_data"
    }
   ],
   "source": [
    "sns.pairplot(crm) #in this pairplot we can see scatterplot which shows relationship between 2 variables like linear ,-ve +ve correlation "
   ]
  },
  {
   "cell_type": "code",
   "execution_count": 7,
   "id": "1f556a02",
   "metadata": {},
   "outputs": [],
   "source": [
    "#from sklearn.preprocessing import LabelEncoder\n",
    "#labelencoder=LabelEncoder()\n",
    "#crm['City']=labelencoder.fit_transform(crm['City'])\n",
    "#crm."
   ]
  },
  {
   "cell_type": "code",
   "execution_count": 8,
   "id": "e8f7a4d9",
   "metadata": {},
   "outputs": [
    {
     "data": {
      "text/html": [
       "<div>\n",
       "<style scoped>\n",
       "    .dataframe tbody tr th:only-of-type {\n",
       "        vertical-align: middle;\n",
       "    }\n",
       "\n",
       "    .dataframe tbody tr th {\n",
       "        vertical-align: top;\n",
       "    }\n",
       "\n",
       "    .dataframe thead th {\n",
       "        text-align: right;\n",
       "    }\n",
       "</style>\n",
       "<table border=\"1\" class=\"dataframe\">\n",
       "  <thead>\n",
       "    <tr style=\"text-align: right;\">\n",
       "      <th></th>\n",
       "      <th>Murder</th>\n",
       "      <th>Assault</th>\n",
       "      <th>UrbanPop</th>\n",
       "      <th>Rape</th>\n",
       "    </tr>\n",
       "  </thead>\n",
       "  <tbody>\n",
       "    <tr>\n",
       "      <th>0</th>\n",
       "      <td>0.054031</td>\n",
       "      <td>0.966016</td>\n",
       "      <td>0.237411</td>\n",
       "      <td>0.086778</td>\n",
       "    </tr>\n",
       "    <tr>\n",
       "      <th>1</th>\n",
       "      <td>0.036872</td>\n",
       "      <td>0.969739</td>\n",
       "      <td>0.176987</td>\n",
       "      <td>0.164081</td>\n",
       "    </tr>\n",
       "    <tr>\n",
       "      <th>2</th>\n",
       "      <td>0.026439</td>\n",
       "      <td>0.959624</td>\n",
       "      <td>0.261122</td>\n",
       "      <td>0.101185</td>\n",
       "    </tr>\n",
       "    <tr>\n",
       "      <th>3</th>\n",
       "      <td>0.044528</td>\n",
       "      <td>0.961392</td>\n",
       "      <td>0.252998</td>\n",
       "      <td>0.098669</td>\n",
       "    </tr>\n",
       "    <tr>\n",
       "      <th>4</th>\n",
       "      <td>0.030657</td>\n",
       "      <td>0.940134</td>\n",
       "      <td>0.309972</td>\n",
       "      <td>0.138295</td>\n",
       "    </tr>\n",
       "  </tbody>\n",
       "</table>\n",
       "</div>"
      ],
      "text/plain": [
       "     Murder   Assault  UrbanPop      Rape\n",
       "0  0.054031  0.966016  0.237411  0.086778\n",
       "1  0.036872  0.969739  0.176987  0.164081\n",
       "2  0.026439  0.959624  0.261122  0.101185\n",
       "3  0.044528  0.961392  0.252998  0.098669\n",
       "4  0.030657  0.940134  0.309972  0.138295"
      ]
     },
     "execution_count": 8,
     "metadata": {},
     "output_type": "execute_result"
    }
   ],
   "source": [
    "#Normalizing Dataset except City Column , as we want to form clusters based on similarities\n",
    "from sklearn.preprocessing import normalize\n",
    "crm_norm=normalize(crm.iloc[:,1:])\n",
    "columns=['Murder','Assault','UrbanPop','Rape']\n",
    "crm_norm=pd.DataFrame(crm_norm,columns=columns)\n",
    "#crm_norm['City']=crm['City']\n",
    "crm_norm.head()"
   ]
  },
  {
   "cell_type": "markdown",
   "id": "af1fe532",
   "metadata": {},
   "source": [
    "# Model creation using Hierarchical Clustering "
   ]
  },
  {
   "cell_type": "code",
   "execution_count": 9,
   "id": "c1cd3f85",
   "metadata": {},
   "outputs": [
    {
     "data": {
      "image/png": "[encoded data removed]",
      "text/plain": [
       "<Figure size 640x480 with 1 Axes>"
      ]
     },
     "metadata": {},
     "output_type": "display_data"
    }
   ],
   "source": [
    "#Dendogram to find the hierarchical of clusters based on similarities and forming into 1 big cluster at the top \n",
    "dendrogram=sch.dendrogram(sch.linkage(crm_norm,method='ward'))"
   ]
  },
  {
   "cell_type": "code",
   "execution_count": 10,
   "id": "bfeb6b6c",
   "metadata": {},
   "outputs": [],
   "source": [
    "#based on Dendogram finalizing on 4 clusters and using Euclidean Distance and linkage ward\n",
    "hc=AgglomerativeClustering(n_clusters=4,affinity='euclidean',linkage='ward')"
   ]
  },
  {
   "cell_type": "code",
   "execution_count": 11,
   "id": "20c12554",
   "metadata": {},
   "outputs": [
    {
     "data": {
      "text/html": [
       "<div>\n",
       "<style scoped>\n",
       "    .dataframe tbody tr th:only-of-type {\n",
       "        vertical-align: middle;\n",
       "    }\n",
       "\n",
       "    .dataframe tbody tr th {\n",
       "        vertical-align: top;\n",
       "    }\n",
       "\n",
       "    .dataframe thead th {\n",
       "        text-align: right;\n",
       "    }\n",
       "</style>\n",
       "<table border=\"1\" class=\"dataframe\">\n",
       "  <thead>\n",
       "    <tr style=\"text-align: right;\">\n",
       "      <th></th>\n",
       "      <th>Clusters_hc</th>\n",
       "    </tr>\n",
       "  </thead>\n",
       "  <tbody>\n",
       "    <tr>\n",
       "      <th>0</th>\n",
       "      <td>2</td>\n",
       "    </tr>\n",
       "    <tr>\n",
       "      <th>1</th>\n",
       "      <td>2</td>\n",
       "    </tr>\n",
       "    <tr>\n",
       "      <th>2</th>\n",
       "      <td>2</td>\n",
       "    </tr>\n",
       "    <tr>\n",
       "      <th>3</th>\n",
       "      <td>2</td>\n",
       "    </tr>\n",
       "    <tr>\n",
       "      <th>4</th>\n",
       "      <td>2</td>\n",
       "    </tr>\n",
       "  </tbody>\n",
       "</table>\n",
       "</div>"
      ],
      "text/plain": [
       "   Clusters_hc\n",
       "0            2\n",
       "1            2\n",
       "2            2\n",
       "3            2\n",
       "4            2"
      ]
     },
     "execution_count": 11,
     "metadata": {},
     "output_type": "execute_result"
    }
   ],
   "source": [
    "y_hc=hc.fit_predict(crm_norm)\n",
    "Clusters_hc=pd.DataFrame(y_hc,columns=['Clusters_hc'])\n",
    "Clusters_hc.head()"
   ]
  },
  {
   "cell_type": "code",
   "execution_count": 12,
   "id": "e21247bb",
   "metadata": {},
   "outputs": [
    {
     "data": {
      "text/html": [
       "<div>\n",
       "<style scoped>\n",
       "    .dataframe tbody tr th:only-of-type {\n",
       "        vertical-align: middle;\n",
       "    }\n",
       "\n",
       "    .dataframe tbody tr th {\n",
       "        vertical-align: top;\n",
       "    }\n",
       "\n",
       "    .dataframe thead th {\n",
       "        text-align: right;\n",
       "    }\n",
       "</style>\n",
       "<table border=\"1\" class=\"dataframe\">\n",
       "  <thead>\n",
       "    <tr style=\"text-align: right;\">\n",
       "      <th></th>\n",
       "      <th>City</th>\n",
       "      <th>Murder</th>\n",
       "      <th>Assault</th>\n",
       "      <th>UrbanPop</th>\n",
       "      <th>Rape</th>\n",
       "      <th>Clusters_hc</th>\n",
       "    </tr>\n",
       "  </thead>\n",
       "  <tbody>\n",
       "    <tr>\n",
       "      <th>0</th>\n",
       "      <td>Alabama</td>\n",
       "      <td>13.2</td>\n",
       "      <td>236</td>\n",
       "      <td>58</td>\n",
       "      <td>21.2</td>\n",
       "      <td>2</td>\n",
       "    </tr>\n",
       "    <tr>\n",
       "      <th>1</th>\n",
       "      <td>Alaska</td>\n",
       "      <td>10.0</td>\n",
       "      <td>263</td>\n",
       "      <td>48</td>\n",
       "      <td>44.5</td>\n",
       "      <td>2</td>\n",
       "    </tr>\n",
       "    <tr>\n",
       "      <th>2</th>\n",
       "      <td>Arizona</td>\n",
       "      <td>8.1</td>\n",
       "      <td>294</td>\n",
       "      <td>80</td>\n",
       "      <td>31.0</td>\n",
       "      <td>2</td>\n",
       "    </tr>\n",
       "    <tr>\n",
       "      <th>3</th>\n",
       "      <td>Arkansas</td>\n",
       "      <td>8.8</td>\n",
       "      <td>190</td>\n",
       "      <td>50</td>\n",
       "      <td>19.5</td>\n",
       "      <td>2</td>\n",
       "    </tr>\n",
       "    <tr>\n",
       "      <th>4</th>\n",
       "      <td>California</td>\n",
       "      <td>9.0</td>\n",
       "      <td>276</td>\n",
       "      <td>91</td>\n",
       "      <td>40.6</td>\n",
       "      <td>2</td>\n",
       "    </tr>\n",
       "  </tbody>\n",
       "</table>\n",
       "</div>"
      ],
      "text/plain": [
       "         City  Murder  Assault  UrbanPop  Rape  Clusters_hc\n",
       "0     Alabama    13.2      236        58  21.2            2\n",
       "1      Alaska    10.0      263        48  44.5            2\n",
       "2     Arizona     8.1      294        80  31.0            2\n",
       "3    Arkansas     8.8      190        50  19.5            2\n",
       "4  California     9.0      276        91  40.6            2"
      ]
     },
     "execution_count": 12,
     "metadata": {},
     "output_type": "execute_result"
    }
   ],
   "source": [
    "crm['Clusters_hc']=Clusters_hc\n",
    "crm.head()"
   ]
  },
  {
   "cell_type": "code",
   "execution_count": 13,
   "id": "13bd0e03",
   "metadata": {},
   "outputs": [
    {
     "data": {
      "text/plain": [
       "<matplotlib.collections.PathCollection at 0x286f8dba4f0>"
      ]
     },
     "execution_count": 13,
     "metadata": {},
     "output_type": "execute_result"
    },
    {
     "data": {
      "image/png": "[encoded data removed]",
      "text/plain": [
       "<Figure size 1000x700 with 1 Axes>"
      ]
     },
     "metadata": {},
     "output_type": "display_data"
    }
   ],
   "source": [
    "plt.figure(figsize=(10,7))\n",
    "plt.scatter(crm_norm['Murder'],crm_norm['Rape'],c=hc.labels_)"
   ]
  },
  {
   "cell_type": "code",
   "execution_count": 14,
   "id": "9a53191e",
   "metadata": {},
   "outputs": [
    {
     "data": {
      "text/html": [
       "<div>\n",
       "<style scoped>\n",
       "    .dataframe tbody tr th:only-of-type {\n",
       "        vertical-align: middle;\n",
       "    }\n",
       "\n",
       "    .dataframe tbody tr th {\n",
       "        vertical-align: top;\n",
       "    }\n",
       "\n",
       "    .dataframe thead th {\n",
       "        text-align: right;\n",
       "    }\n",
       "</style>\n",
       "<table border=\"1\" class=\"dataframe\">\n",
       "  <thead>\n",
       "    <tr style=\"text-align: right;\">\n",
       "      <th></th>\n",
       "      <th>Murder</th>\n",
       "      <th>Assault</th>\n",
       "      <th>UrbanPop</th>\n",
       "      <th>Rape</th>\n",
       "    </tr>\n",
       "  </thead>\n",
       "  <tbody>\n",
       "    <tr>\n",
       "      <th>0</th>\n",
       "      <td>0.054031</td>\n",
       "      <td>0.966016</td>\n",
       "      <td>0.237411</td>\n",
       "      <td>0.086778</td>\n",
       "    </tr>\n",
       "    <tr>\n",
       "      <th>1</th>\n",
       "      <td>0.036872</td>\n",
       "      <td>0.969739</td>\n",
       "      <td>0.176987</td>\n",
       "      <td>0.164081</td>\n",
       "    </tr>\n",
       "    <tr>\n",
       "      <th>2</th>\n",
       "      <td>0.026439</td>\n",
       "      <td>0.959624</td>\n",
       "      <td>0.261122</td>\n",
       "      <td>0.101185</td>\n",
       "    </tr>\n",
       "    <tr>\n",
       "      <th>3</th>\n",
       "      <td>0.044528</td>\n",
       "      <td>0.961392</td>\n",
       "      <td>0.252998</td>\n",
       "      <td>0.098669</td>\n",
       "    </tr>\n",
       "    <tr>\n",
       "      <th>4</th>\n",
       "      <td>0.030657</td>\n",
       "      <td>0.940134</td>\n",
       "      <td>0.309972</td>\n",
       "      <td>0.138295</td>\n",
       "    </tr>\n",
       "  </tbody>\n",
       "</table>\n",
       "</div>"
      ],
      "text/plain": [
       "     Murder   Assault  UrbanPop      Rape\n",
       "0  0.054031  0.966016  0.237411  0.086778\n",
       "1  0.036872  0.969739  0.176987  0.164081\n",
       "2  0.026439  0.959624  0.261122  0.101185\n",
       "3  0.044528  0.961392  0.252998  0.098669\n",
       "4  0.030657  0.940134  0.309972  0.138295"
      ]
     },
     "execution_count": 14,
     "metadata": {},
     "output_type": "execute_result"
    }
   ],
   "source": [
    "crm_norm.head()"
   ]
  },
  {
   "cell_type": "code",
   "execution_count": 15,
   "id": "4a5c34ed",
   "metadata": {},
   "outputs": [
    {
     "data": {
      "text/plain": [
       "array([0, 1, 2, 3], dtype=int64)"
      ]
     },
     "execution_count": 15,
     "metadata": {},
     "output_type": "execute_result"
    }
   ],
   "source": [
    "y_hc_labels=np.unique(y_hc)\n",
    "y_hc_labels"
   ]
  },
  {
   "cell_type": "code",
   "execution_count": 16,
   "id": "ee39a7a2",
   "metadata": {},
   "outputs": [
    {
     "data": {
      "text/plain": [
       "0.44923935480079796"
      ]
     },
     "execution_count": 16,
     "metadata": {},
     "output_type": "execute_result"
    }
   ],
   "source": [
    "#Silhoutte score to check the clusters are  correctly divided\n",
    "from sklearn.metrics import silhouette_score\n",
    "hc_score=silhouette_score(crm_norm,hc.labels_,metric='euclidean')\n",
    "hc_score"
   ]
  },
  {
   "cell_type": "markdown",
   "id": "b6f84357",
   "metadata": {},
   "source": [
    "# K-means Clustering"
   ]
  },
  {
   "cell_type": "code",
   "execution_count": 17,
   "id": "82edb076",
   "metadata": {},
   "outputs": [],
   "source": [
    "from sklearn.preprocessing import StandardScaler\n",
    "from sklearn.cluster import KMeans"
   ]
  },
  {
   "cell_type": "code",
   "execution_count": 18,
   "id": "0cc6ca90",
   "metadata": {},
   "outputs": [
    {
     "name": "stderr",
     "output_type": "stream",
     "text": [
      "c:\\Users\\Hi\\anaconda3\\lib\\site-packages\\sklearn\\cluster\\_kmeans.py:1036: UserWarning: KMeans is known to have a memory leak on Windows with MKL, when there are less chunks than available threads. You can avoid it by setting the environment variable OMP_NUM_THREADS=1.\n",
      "  warnings.warn(\n"
     ]
    },
    {
     "data": {
      "image/png": "[encoded data removed]",
      "text/plain": [
       "<Figure size 640x480 with 1 Axes>"
      ]
     },
     "metadata": {},
     "output_type": "display_data"
    }
   ],
   "source": [
    "#Elbow Chart to find number of clusters best suited for the dataset at sharp elbow like bend\n",
    "wcss=[]\n",
    "for i in range(1,11):\n",
    "    kmeans=KMeans(n_clusters=i,random_state=0)\n",
    "    kmeans.fit(crm_norm)\n",
    "    wcss.append(kmeans.inertia_)\n",
    "    \n",
    "plt.plot(range(1,11),wcss)\n",
    "plt.title('Elbow Chart')\n",
    "plt.xlabel(\"No.of Clusters\")\n",
    "plt.ylabel(\"WCSS\")\n",
    "plt.show()"
   ]
  },
  {
   "cell_type": "code",
   "execution_count": 19,
   "id": "f7476b9c",
   "metadata": {},
   "outputs": [
    {
     "data": {
      "text/plain": [
       "KMeans(n_clusters=4, random_state=0)"
      ]
     },
     "execution_count": 19,
     "metadata": {},
     "output_type": "execute_result"
    }
   ],
   "source": [
    "kmeans1=KMeans(n_clusters=4,random_state=0)\n",
    "kmeans1.fit(crm_norm)"
   ]
  },
  {
   "cell_type": "code",
   "execution_count": 20,
   "id": "9adaf9db",
   "metadata": {},
   "outputs": [
    {
     "data": {
      "text/plain": [
       "array([1, 1, 1, 1, 1, 0, 3, 1, 1, 1, 2, 0, 1, 3, 2, 3, 0, 1, 3, 1, 3, 1,\n",
       "       2, 1, 0, 0, 3, 1, 2, 3, 1, 1, 1, 2, 3, 0, 0, 3, 0, 1, 0, 1, 0, 3,\n",
       "       3, 0, 0, 0, 2, 0])"
      ]
     },
     "execution_count": 20,
     "metadata": {},
     "output_type": "execute_result"
    }
   ],
   "source": [
    "kmeans1.labels_"
   ]
  },
  {
   "cell_type": "code",
   "execution_count": 21,
   "id": "48a86ff7",
   "metadata": {},
   "outputs": [],
   "source": [
    "crm_norm[\"Cluster_kmeans\"]=kmeans1.labels_"
   ]
  },
  {
   "cell_type": "code",
   "execution_count": 22,
   "id": "7b301a26",
   "metadata": {},
   "outputs": [
    {
     "data": {
      "text/html": [
       "<div>\n",
       "<style scoped>\n",
       "    .dataframe tbody tr th:only-of-type {\n",
       "        vertical-align: middle;\n",
       "    }\n",
       "\n",
       "    .dataframe tbody tr th {\n",
       "        vertical-align: top;\n",
       "    }\n",
       "\n",
       "    .dataframe thead th {\n",
       "        text-align: right;\n",
       "    }\n",
       "</style>\n",
       "<table border=\"1\" class=\"dataframe\">\n",
       "  <thead>\n",
       "    <tr style=\"text-align: right;\">\n",
       "      <th></th>\n",
       "      <th>Murder</th>\n",
       "      <th>Assault</th>\n",
       "      <th>UrbanPop</th>\n",
       "      <th>Rape</th>\n",
       "      <th>Cluster_kmeans</th>\n",
       "    </tr>\n",
       "  </thead>\n",
       "  <tbody>\n",
       "    <tr>\n",
       "      <th>0</th>\n",
       "      <td>0.054031</td>\n",
       "      <td>0.966016</td>\n",
       "      <td>0.237411</td>\n",
       "      <td>0.086778</td>\n",
       "      <td>1</td>\n",
       "    </tr>\n",
       "    <tr>\n",
       "      <th>1</th>\n",
       "      <td>0.036872</td>\n",
       "      <td>0.969739</td>\n",
       "      <td>0.176987</td>\n",
       "      <td>0.164081</td>\n",
       "      <td>1</td>\n",
       "    </tr>\n",
       "    <tr>\n",
       "      <th>2</th>\n",
       "      <td>0.026439</td>\n",
       "      <td>0.959624</td>\n",
       "      <td>0.261122</td>\n",
       "      <td>0.101185</td>\n",
       "      <td>1</td>\n",
       "    </tr>\n",
       "    <tr>\n",
       "      <th>3</th>\n",
       "      <td>0.044528</td>\n",
       "      <td>0.961392</td>\n",
       "      <td>0.252998</td>\n",
       "      <td>0.098669</td>\n",
       "      <td>1</td>\n",
       "    </tr>\n",
       "    <tr>\n",
       "      <th>4</th>\n",
       "      <td>0.030657</td>\n",
       "      <td>0.940134</td>\n",
       "      <td>0.309972</td>\n",
       "      <td>0.138295</td>\n",
       "      <td>1</td>\n",
       "    </tr>\n",
       "  </tbody>\n",
       "</table>\n",
       "</div>"
      ],
      "text/plain": [
       "     Murder   Assault  UrbanPop      Rape  Cluster_kmeans\n",
       "0  0.054031  0.966016  0.237411  0.086778               1\n",
       "1  0.036872  0.969739  0.176987  0.164081               1\n",
       "2  0.026439  0.959624  0.261122  0.101185               1\n",
       "3  0.044528  0.961392  0.252998  0.098669               1\n",
       "4  0.030657  0.940134  0.309972  0.138295               1"
      ]
     },
     "execution_count": 22,
     "metadata": {},
     "output_type": "execute_result"
    }
   ],
   "source": [
    "crm_norm.head()"
   ]
  },
  {
   "cell_type": "code",
   "execution_count": 23,
   "id": "1fe64af9",
   "metadata": {},
   "outputs": [
    {
     "data": {
      "text/html": [
       "<div>\n",
       "<style scoped>\n",
       "    .dataframe tbody tr th:only-of-type {\n",
       "        vertical-align: middle;\n",
       "    }\n",
       "\n",
       "    .dataframe tbody tr th {\n",
       "        vertical-align: top;\n",
       "    }\n",
       "\n",
       "    .dataframe thead th {\n",
       "        text-align: right;\n",
       "    }\n",
       "</style>\n",
       "<table border=\"1\" class=\"dataframe\">\n",
       "  <thead>\n",
       "    <tr style=\"text-align: right;\">\n",
       "      <th></th>\n",
       "      <th></th>\n",
       "      <th>Assault</th>\n",
       "      <th>UrbanPop</th>\n",
       "      <th>Rape</th>\n",
       "    </tr>\n",
       "    <tr>\n",
       "      <th>Cluster_kmeans</th>\n",
       "      <th>Murder</th>\n",
       "      <th></th>\n",
       "      <th></th>\n",
       "      <th></th>\n",
       "    </tr>\n",
       "  </thead>\n",
       "  <tbody>\n",
       "    <tr>\n",
       "      <th rowspan=\"14\" valign=\"top\">0</th>\n",
       "      <th>0.017459</th>\n",
       "      <td>0.893478</td>\n",
       "      <td>0.446739</td>\n",
       "      <td>0.042620</td>\n",
       "    </tr>\n",
       "    <tr>\n",
       "      <th>0.019640</th>\n",
       "      <td>0.906483</td>\n",
       "      <td>0.407917</td>\n",
       "      <td>0.107267</td>\n",
       "    </tr>\n",
       "    <tr>\n",
       "      <th>0.024318</th>\n",
       "      <td>0.881521</td>\n",
       "      <td>0.443800</td>\n",
       "      <td>0.159282</td>\n",
       "    </tr>\n",
       "    <tr>\n",
       "      <th>0.027987</th>\n",
       "      <td>0.908164</td>\n",
       "      <td>0.382685</td>\n",
       "      <td>0.167353</td>\n",
       "    </tr>\n",
       "    <tr>\n",
       "      <th>0.035594</th>\n",
       "      <td>0.919142</td>\n",
       "      <td>0.351437</td>\n",
       "      <td>0.174367</td>\n",
       "    </tr>\n",
       "    <tr>\n",
       "      <th>0.038785</th>\n",
       "      <td>0.877767</td>\n",
       "      <td>0.459297</td>\n",
       "      <td>0.130644</td>\n",
       "    </tr>\n",
       "    <tr>\n",
       "      <th>0.039384</th>\n",
       "      <td>0.932482</td>\n",
       "      <td>0.347509</td>\n",
       "      <td>0.090352</td>\n",
       "    </tr>\n",
       "    <tr>\n",
       "      <th>0.039535</th>\n",
       "      <td>0.904523</td>\n",
       "      <td>0.407335</td>\n",
       "      <td>0.119804</td>\n",
       "    </tr>\n",
       "    <tr>\n",
       "      <th>0.046500</th>\n",
       "      <td>0.919676</td>\n",
       "      <td>0.361670</td>\n",
       "      <td>0.145701</td>\n",
       "    </tr>\n",
       "    <tr>\n",
       "      <th>0.048998</th>\n",
       "      <td>0.890131</td>\n",
       "      <td>0.432816</td>\n",
       "      <td>0.133928</td>\n",
       "    </tr>\n",
       "    <tr>\n",
       "      <th>0.050082</th>\n",
       "      <td>0.919147</td>\n",
       "      <td>0.371194</td>\n",
       "      <td>0.121964</td>\n",
       "    </tr>\n",
       "    <tr>\n",
       "      <th>0.058203</th>\n",
       "      <td>0.921161</td>\n",
       "      <td>0.366631</td>\n",
       "      <td>0.116864</td>\n",
       "    </tr>\n",
       "    <tr>\n",
       "      <th>0.062942</th>\n",
       "      <td>0.894442</td>\n",
       "      <td>0.430657</td>\n",
       "      <td>0.102695</td>\n",
       "    </tr>\n",
       "    <tr>\n",
       "      <th>0.079346</th>\n",
       "      <td>0.891624</td>\n",
       "      <td>0.425362</td>\n",
       "      <td>0.133335</td>\n",
       "    </tr>\n",
       "    <tr>\n",
       "      <th rowspan=\"19\" valign=\"top\">1</th>\n",
       "      <th>0.023674</th>\n",
       "      <td>0.954965</td>\n",
       "      <td>0.288897</td>\n",
       "      <td>0.063397</td>\n",
       "    </tr>\n",
       "    <tr>\n",
       "      <th>0.026439</th>\n",
       "      <td>0.959624</td>\n",
       "      <td>0.261122</td>\n",
       "      <td>0.101185</td>\n",
       "    </tr>\n",
       "    <tr>\n",
       "      <th>0.030657</th>\n",
       "      <td>0.940134</td>\n",
       "      <td>0.309972</td>\n",
       "      <td>0.138295</td>\n",
       "    </tr>\n",
       "    <tr>\n",
       "      <th>0.036587</th>\n",
       "      <td>0.971339</td>\n",
       "      <td>0.216932</td>\n",
       "      <td>0.090011</td>\n",
       "    </tr>\n",
       "    <tr>\n",
       "      <th>0.036872</th>\n",
       "      <td>0.969739</td>\n",
       "      <td>0.176987</td>\n",
       "      <td>0.164081</td>\n",
       "    </tr>\n",
       "    <tr>\n",
       "      <th>0.038166</th>\n",
       "      <td>0.989371</td>\n",
       "      <td>0.132112</td>\n",
       "      <td>0.047267</td>\n",
       "    </tr>\n",
       "    <tr>\n",
       "      <th>0.038586</th>\n",
       "      <td>0.964660</td>\n",
       "      <td>0.236934</td>\n",
       "      <td>0.108651</td>\n",
       "    </tr>\n",
       "    <tr>\n",
       "      <th>0.039428</th>\n",
       "      <td>0.944007</td>\n",
       "      <td>0.314669</td>\n",
       "      <td>0.090989</td>\n",
       "    </tr>\n",
       "    <tr>\n",
       "      <th>0.041163</th>\n",
       "      <td>0.941927</td>\n",
       "      <td>0.318920</td>\n",
       "      <td>0.096789</td>\n",
       "    </tr>\n",
       "    <tr>\n",
       "      <th>0.044478</th>\n",
       "      <td>0.967547</td>\n",
       "      <td>0.231056</td>\n",
       "      <td>0.092134</td>\n",
       "    </tr>\n",
       "    <tr>\n",
       "      <th>0.044528</th>\n",
       "      <td>0.961392</td>\n",
       "      <td>0.252998</td>\n",
       "      <td>0.098669</td>\n",
       "    </tr>\n",
       "    <tr>\n",
       "      <th>0.045132</th>\n",
       "      <td>0.951126</td>\n",
       "      <td>0.276013</td>\n",
       "      <td>0.130920</td>\n",
       "    </tr>\n",
       "    <tr>\n",
       "      <th>0.045363</th>\n",
       "      <td>0.937005</td>\n",
       "      <td>0.301180</td>\n",
       "      <td>0.171041</td>\n",
       "    </tr>\n",
       "    <tr>\n",
       "      <th>0.050641</th>\n",
       "      <td>0.981163</td>\n",
       "      <td>0.168802</td>\n",
       "      <td>0.079126</td>\n",
       "    </tr>\n",
       "    <tr>\n",
       "      <th>0.054031</th>\n",
       "      <td>0.966016</td>\n",
       "      <td>0.237411</td>\n",
       "      <td>0.086778</td>\n",
       "    </tr>\n",
       "    <tr>\n",
       "      <th>0.059457</th>\n",
       "      <td>0.961347</td>\n",
       "      <td>0.254815</td>\n",
       "      <td>0.085710</td>\n",
       "    </tr>\n",
       "    <tr>\n",
       "      <th>0.061041</th>\n",
       "      <td>0.981958</td>\n",
       "      <td>0.166819</td>\n",
       "      <td>0.064832</td>\n",
       "    </tr>\n",
       "    <tr>\n",
       "      <th>0.066230</th>\n",
       "      <td>0.943274</td>\n",
       "      <td>0.296027</td>\n",
       "      <td>0.134968</td>\n",
       "    </tr>\n",
       "    <tr>\n",
       "      <th>0.078534</th>\n",
       "      <td>0.952332</td>\n",
       "      <td>0.270805</td>\n",
       "      <td>0.116446</td>\n",
       "    </tr>\n",
       "    <tr>\n",
       "      <th rowspan=\"6\" valign=\"top\">2</th>\n",
       "      <th>0.012626</th>\n",
       "      <td>0.710188</td>\n",
       "      <td>0.694406</td>\n",
       "      <td>0.115208</td>\n",
       "    </tr>\n",
       "    <tr>\n",
       "      <th>0.026088</th>\n",
       "      <td>0.708107</td>\n",
       "      <td>0.695684</td>\n",
       "      <td>0.118018</td>\n",
       "    </tr>\n",
       "    <tr>\n",
       "      <th>0.027251</th>\n",
       "      <td>0.693660</td>\n",
       "      <td>0.706047</td>\n",
       "      <td>0.139971</td>\n",
       "    </tr>\n",
       "    <tr>\n",
       "      <th>0.027317</th>\n",
       "      <td>0.728452</td>\n",
       "      <td>0.667747</td>\n",
       "      <td>0.150749</td>\n",
       "    </tr>\n",
       "    <tr>\n",
       "      <th>0.030455</th>\n",
       "      <td>0.620812</td>\n",
       "      <td>0.773086</td>\n",
       "      <td>0.126505</td>\n",
       "    </tr>\n",
       "    <tr>\n",
       "      <th>0.054546</th>\n",
       "      <td>0.473419</td>\n",
       "      <td>0.854213</td>\n",
       "      <td>0.207893</td>\n",
       "    </tr>\n",
       "    <tr>\n",
       "      <th rowspan=\"11\" valign=\"top\">3</th>\n",
       "      <th>0.021483</th>\n",
       "      <td>0.849097</td>\n",
       "      <td>0.521734</td>\n",
       "      <td>0.079795</td>\n",
       "    </tr>\n",
       "    <tr>\n",
       "      <th>0.021908</th>\n",
       "      <td>0.821558</td>\n",
       "      <td>0.547706</td>\n",
       "      <td>0.156781</td>\n",
       "    </tr>\n",
       "    <tr>\n",
       "      <th>0.024486</th>\n",
       "      <td>0.816202</td>\n",
       "      <td>0.571341</td>\n",
       "      <td>0.082362</td>\n",
       "    </tr>\n",
       "    <tr>\n",
       "      <th>0.025527</th>\n",
       "      <td>0.864425</td>\n",
       "      <td>0.493128</td>\n",
       "      <td>0.094565</td>\n",
       "    </tr>\n",
       "    <tr>\n",
       "      <th>0.035662</th>\n",
       "      <td>0.845935</td>\n",
       "      <td>0.514196</td>\n",
       "      <td>0.136842</td>\n",
       "    </tr>\n",
       "    <tr>\n",
       "      <th>0.037410</th>\n",
       "      <td>0.816227</td>\n",
       "      <td>0.544152</td>\n",
       "      <td>0.190453</td>\n",
       "    </tr>\n",
       "    <tr>\n",
       "      <th>0.040364</th>\n",
       "      <td>0.867284</td>\n",
       "      <td>0.485461</td>\n",
       "      <td>0.102547</td>\n",
       "    </tr>\n",
       "    <tr>\n",
       "      <th>0.044795</th>\n",
       "      <td>0.858568</td>\n",
       "      <td>0.492743</td>\n",
       "      <td>0.134385</td>\n",
       "    </tr>\n",
       "    <tr>\n",
       "      <th>0.048778</th>\n",
       "      <td>0.820702</td>\n",
       "      <td>0.557458</td>\n",
       "      <td>0.115363</td>\n",
       "    </tr>\n",
       "    <tr>\n",
       "      <th>0.050940</th>\n",
       "      <td>0.837376</td>\n",
       "      <td>0.523360</td>\n",
       "      <td>0.149332</td>\n",
       "    </tr>\n",
       "    <tr>\n",
       "      <th>0.054447</th>\n",
       "      <td>0.854521</td>\n",
       "      <td>0.491539</td>\n",
       "      <td>0.158805</td>\n",
       "    </tr>\n",
       "  </tbody>\n",
       "</table>\n",
       "</div>"
      ],
      "text/plain": [
       "                          Assault  UrbanPop      Rape\n",
       "Cluster_kmeans Murder                                \n",
       "0              0.017459  0.893478  0.446739  0.042620\n",
       "               0.019640  0.906483  0.407917  0.107267\n",
       "               0.024318  0.881521  0.443800  0.159282\n",
       "               0.027987  0.908164  0.382685  0.167353\n",
       "               0.035594  0.919142  0.351437  0.174367\n",
       "               0.038785  0.877767  0.459297  0.130644\n",
       "               0.039384  0.932482  0.347509  0.090352\n",
       "               0.039535  0.904523  0.407335  0.119804\n",
       "               0.046500  0.919676  0.361670  0.145701\n",
       "               0.048998  0.890131  0.432816  0.133928\n",
       "               0.050082  0.919147  0.371194  0.121964\n",
       "               0.058203  0.921161  0.366631  0.116864\n",
       "               0.062942  0.894442  0.430657  0.102695\n",
       "               0.079346  0.891624  0.425362  0.133335\n",
       "1              0.023674  0.954965  0.288897  0.063397\n",
       "               0.026439  0.959624  0.261122  0.101185\n",
       "               0.030657  0.940134  0.309972  0.138295\n",
       "               0.036587  0.971339  0.216932  0.090011\n",
       "               0.036872  0.969739  0.176987  0.164081\n",
       "               0.038166  0.989371  0.132112  0.047267\n",
       "               0.038586  0.964660  0.236934  0.108651\n",
       "               0.039428  0.944007  0.314669  0.090989\n",
       "               0.041163  0.941927  0.318920  0.096789\n",
       "               0.044478  0.967547  0.231056  0.092134\n",
       "               0.044528  0.961392  0.252998  0.098669\n",
       "               0.045132  0.951126  0.276013  0.130920\n",
       "               0.045363  0.937005  0.301180  0.171041\n",
       "               0.050641  0.981163  0.168802  0.079126\n",
       "               0.054031  0.966016  0.237411  0.086778\n",
       "               0.059457  0.961347  0.254815  0.085710\n",
       "               0.061041  0.981958  0.166819  0.064832\n",
       "               0.066230  0.943274  0.296027  0.134968\n",
       "               0.078534  0.952332  0.270805  0.116446\n",
       "2              0.012626  0.710188  0.694406  0.115208\n",
       "               0.026088  0.708107  0.695684  0.118018\n",
       "               0.027251  0.693660  0.706047  0.139971\n",
       "               0.027317  0.728452  0.667747  0.150749\n",
       "               0.030455  0.620812  0.773086  0.126505\n",
       "               0.054546  0.473419  0.854213  0.207893\n",
       "3              0.021483  0.849097  0.521734  0.079795\n",
       "               0.021908  0.821558  0.547706  0.156781\n",
       "               0.024486  0.816202  0.571341  0.082362\n",
       "               0.025527  0.864425  0.493128  0.094565\n",
       "               0.035662  0.845935  0.514196  0.136842\n",
       "               0.037410  0.816227  0.544152  0.190453\n",
       "               0.040364  0.867284  0.485461  0.102547\n",
       "               0.044795  0.858568  0.492743  0.134385\n",
       "               0.048778  0.820702  0.557458  0.115363\n",
       "               0.050940  0.837376  0.523360  0.149332\n",
       "               0.054447  0.854521  0.491539  0.158805"
      ]
     },
     "execution_count": 23,
     "metadata": {},
     "output_type": "execute_result"
    }
   ],
   "source": [
    "CL=crm_norm.groupby([  'Cluster_kmeans','Murder'])\n",
    "CL.first()"
   ]
  },
  {
   "cell_type": "code",
   "execution_count": 24,
   "id": "df22d449",
   "metadata": {},
   "outputs": [],
   "source": [
    "crm['Cluster_kmeans']=kmeans1.labels_"
   ]
  },
  {
   "cell_type": "code",
   "execution_count": 25,
   "id": "ee18fe24",
   "metadata": {},
   "outputs": [
    {
     "data": {
      "text/html": [
       "<div>\n",
       "<style scoped>\n",
       "    .dataframe tbody tr th:only-of-type {\n",
       "        vertical-align: middle;\n",
       "    }\n",
       "\n",
       "    .dataframe tbody tr th {\n",
       "        vertical-align: top;\n",
       "    }\n",
       "\n",
       "    .dataframe thead th {\n",
       "        text-align: right;\n",
       "    }\n",
       "</style>\n",
       "<table border=\"1\" class=\"dataframe\">\n",
       "  <thead>\n",
       "    <tr style=\"text-align: right;\">\n",
       "      <th></th>\n",
       "      <th>City</th>\n",
       "      <th>Murder</th>\n",
       "      <th>Assault</th>\n",
       "      <th>UrbanPop</th>\n",
       "      <th>Rape</th>\n",
       "      <th>Clusters_hc</th>\n",
       "      <th>Cluster_kmeans</th>\n",
       "    </tr>\n",
       "  </thead>\n",
       "  <tbody>\n",
       "    <tr>\n",
       "      <th>0</th>\n",
       "      <td>Alabama</td>\n",
       "      <td>13.2</td>\n",
       "      <td>236</td>\n",
       "      <td>58</td>\n",
       "      <td>21.2</td>\n",
       "      <td>2</td>\n",
       "      <td>1</td>\n",
       "    </tr>\n",
       "    <tr>\n",
       "      <th>1</th>\n",
       "      <td>Alaska</td>\n",
       "      <td>10.0</td>\n",
       "      <td>263</td>\n",
       "      <td>48</td>\n",
       "      <td>44.5</td>\n",
       "      <td>2</td>\n",
       "      <td>1</td>\n",
       "    </tr>\n",
       "    <tr>\n",
       "      <th>2</th>\n",
       "      <td>Arizona</td>\n",
       "      <td>8.1</td>\n",
       "      <td>294</td>\n",
       "      <td>80</td>\n",
       "      <td>31.0</td>\n",
       "      <td>2</td>\n",
       "      <td>1</td>\n",
       "    </tr>\n",
       "    <tr>\n",
       "      <th>3</th>\n",
       "      <td>Arkansas</td>\n",
       "      <td>8.8</td>\n",
       "      <td>190</td>\n",
       "      <td>50</td>\n",
       "      <td>19.5</td>\n",
       "      <td>2</td>\n",
       "      <td>1</td>\n",
       "    </tr>\n",
       "    <tr>\n",
       "      <th>4</th>\n",
       "      <td>California</td>\n",
       "      <td>9.0</td>\n",
       "      <td>276</td>\n",
       "      <td>91</td>\n",
       "      <td>40.6</td>\n",
       "      <td>2</td>\n",
       "      <td>1</td>\n",
       "    </tr>\n",
       "  </tbody>\n",
       "</table>\n",
       "</div>"
      ],
      "text/plain": [
       "         City  Murder  Assault  UrbanPop  Rape  Clusters_hc  Cluster_kmeans\n",
       "0     Alabama    13.2      236        58  21.2            2               1\n",
       "1      Alaska    10.0      263        48  44.5            2               1\n",
       "2     Arizona     8.1      294        80  31.0            2               1\n",
       "3    Arkansas     8.8      190        50  19.5            2               1\n",
       "4  California     9.0      276        91  40.6            2               1"
      ]
     },
     "execution_count": 25,
     "metadata": {},
     "output_type": "execute_result"
    }
   ],
   "source": [
    "crm.head()"
   ]
  },
  {
   "cell_type": "code",
   "execution_count": 26,
   "id": "39fe8905",
   "metadata": {},
   "outputs": [
    {
     "data": {
      "text/html": [
       "<div>\n",
       "<style scoped>\n",
       "    .dataframe tbody tr th:only-of-type {\n",
       "        vertical-align: middle;\n",
       "    }\n",
       "\n",
       "    .dataframe tbody tr th {\n",
       "        vertical-align: top;\n",
       "    }\n",
       "\n",
       "    .dataframe thead th {\n",
       "        text-align: right;\n",
       "    }\n",
       "</style>\n",
       "<table border=\"1\" class=\"dataframe\">\n",
       "  <thead>\n",
       "    <tr style=\"text-align: right;\">\n",
       "      <th></th>\n",
       "      <th></th>\n",
       "      <th>City</th>\n",
       "      <th>Assault</th>\n",
       "      <th>UrbanPop</th>\n",
       "      <th>Rape</th>\n",
       "      <th>Clusters_hc</th>\n",
       "    </tr>\n",
       "    <tr>\n",
       "      <th>Cluster_kmeans</th>\n",
       "      <th>Murder</th>\n",
       "      <th></th>\n",
       "      <th></th>\n",
       "      <th></th>\n",
       "      <th></th>\n",
       "      <th></th>\n",
       "    </tr>\n",
       "  </thead>\n",
       "  <tbody>\n",
       "    <tr>\n",
       "      <th rowspan=\"14\" valign=\"top\">0</th>\n",
       "      <th>2.6</th>\n",
       "      <td>Idaho</td>\n",
       "      <td>120</td>\n",
       "      <td>54</td>\n",
       "      <td>14.2</td>\n",
       "      <td>3</td>\n",
       "    </tr>\n",
       "    <tr>\n",
       "      <th>3.4</th>\n",
       "      <td>Rhode Island</td>\n",
       "      <td>174</td>\n",
       "      <td>87</td>\n",
       "      <td>8.3</td>\n",
       "      <td>1</td>\n",
       "    </tr>\n",
       "    <tr>\n",
       "      <th>3.8</th>\n",
       "      <td>South Dakota</td>\n",
       "      <td>86</td>\n",
       "      <td>45</td>\n",
       "      <td>12.8</td>\n",
       "      <td>3</td>\n",
       "    </tr>\n",
       "    <tr>\n",
       "      <th>4.0</th>\n",
       "      <td>Washington</td>\n",
       "      <td>145</td>\n",
       "      <td>73</td>\n",
       "      <td>26.2</td>\n",
       "      <td>3</td>\n",
       "    </tr>\n",
       "    <tr>\n",
       "      <th>4.9</th>\n",
       "      <td>Oregon</td>\n",
       "      <td>159</td>\n",
       "      <td>67</td>\n",
       "      <td>29.3</td>\n",
       "      <td>3</td>\n",
       "    </tr>\n",
       "    <tr>\n",
       "      <th>5.7</th>\n",
       "      <td>West Virginia</td>\n",
       "      <td>81</td>\n",
       "      <td>39</td>\n",
       "      <td>9.3</td>\n",
       "      <td>3</td>\n",
       "    </tr>\n",
       "    <tr>\n",
       "      <th>6.0</th>\n",
       "      <td>Montana</td>\n",
       "      <td>109</td>\n",
       "      <td>53</td>\n",
       "      <td>16.4</td>\n",
       "      <td>3</td>\n",
       "    </tr>\n",
       "    <tr>\n",
       "      <th>6.6</th>\n",
       "      <td>Oklahoma</td>\n",
       "      <td>151</td>\n",
       "      <td>68</td>\n",
       "      <td>20.0</td>\n",
       "      <td>3</td>\n",
       "    </tr>\n",
       "    <tr>\n",
       "      <th>6.8</th>\n",
       "      <td>Wyoming</td>\n",
       "      <td>161</td>\n",
       "      <td>60</td>\n",
       "      <td>15.6</td>\n",
       "      <td>2</td>\n",
       "    </tr>\n",
       "    <tr>\n",
       "      <th>7.9</th>\n",
       "      <td>Colorado</td>\n",
       "      <td>204</td>\n",
       "      <td>78</td>\n",
       "      <td>38.7</td>\n",
       "      <td>3</td>\n",
       "    </tr>\n",
       "    <tr>\n",
       "      <th>8.5</th>\n",
       "      <td>Virginia</td>\n",
       "      <td>156</td>\n",
       "      <td>63</td>\n",
       "      <td>20.7</td>\n",
       "      <td>3</td>\n",
       "    </tr>\n",
       "    <tr>\n",
       "      <th>9.0</th>\n",
       "      <td>Missouri</td>\n",
       "      <td>178</td>\n",
       "      <td>70</td>\n",
       "      <td>28.2</td>\n",
       "      <td>3</td>\n",
       "    </tr>\n",
       "    <tr>\n",
       "      <th>9.7</th>\n",
       "      <td>Kentucky</td>\n",
       "      <td>109</td>\n",
       "      <td>52</td>\n",
       "      <td>16.3</td>\n",
       "      <td>3</td>\n",
       "    </tr>\n",
       "    <tr>\n",
       "      <th>12.7</th>\n",
       "      <td>Texas</td>\n",
       "      <td>201</td>\n",
       "      <td>80</td>\n",
       "      <td>25.5</td>\n",
       "      <td>3</td>\n",
       "    </tr>\n",
       "    <tr>\n",
       "      <th rowspan=\"17\" valign=\"top\">1</th>\n",
       "      <th>5.9</th>\n",
       "      <td>Delaware</td>\n",
       "      <td>238</td>\n",
       "      <td>72</td>\n",
       "      <td>15.8</td>\n",
       "      <td>2</td>\n",
       "    </tr>\n",
       "    <tr>\n",
       "      <th>8.1</th>\n",
       "      <td>Arizona</td>\n",
       "      <td>294</td>\n",
       "      <td>80</td>\n",
       "      <td>31.0</td>\n",
       "      <td>2</td>\n",
       "    </tr>\n",
       "    <tr>\n",
       "      <th>8.8</th>\n",
       "      <td>Arkansas</td>\n",
       "      <td>190</td>\n",
       "      <td>50</td>\n",
       "      <td>19.5</td>\n",
       "      <td>2</td>\n",
       "    </tr>\n",
       "    <tr>\n",
       "      <th>9.0</th>\n",
       "      <td>California</td>\n",
       "      <td>276</td>\n",
       "      <td>91</td>\n",
       "      <td>40.6</td>\n",
       "      <td>2</td>\n",
       "    </tr>\n",
       "    <tr>\n",
       "      <th>10.0</th>\n",
       "      <td>Alaska</td>\n",
       "      <td>263</td>\n",
       "      <td>48</td>\n",
       "      <td>44.5</td>\n",
       "      <td>2</td>\n",
       "    </tr>\n",
       "    <tr>\n",
       "      <th>10.4</th>\n",
       "      <td>Illinois</td>\n",
       "      <td>249</td>\n",
       "      <td>83</td>\n",
       "      <td>24.0</td>\n",
       "      <td>2</td>\n",
       "    </tr>\n",
       "    <tr>\n",
       "      <th>11.1</th>\n",
       "      <td>New York</td>\n",
       "      <td>254</td>\n",
       "      <td>86</td>\n",
       "      <td>26.1</td>\n",
       "      <td>2</td>\n",
       "    </tr>\n",
       "    <tr>\n",
       "      <th>11.3</th>\n",
       "      <td>Maryland</td>\n",
       "      <td>300</td>\n",
       "      <td>67</td>\n",
       "      <td>27.8</td>\n",
       "      <td>2</td>\n",
       "    </tr>\n",
       "    <tr>\n",
       "      <th>11.4</th>\n",
       "      <td>New Mexico</td>\n",
       "      <td>285</td>\n",
       "      <td>70</td>\n",
       "      <td>32.1</td>\n",
       "      <td>2</td>\n",
       "    </tr>\n",
       "    <tr>\n",
       "      <th>12.1</th>\n",
       "      <td>Michigan</td>\n",
       "      <td>255</td>\n",
       "      <td>74</td>\n",
       "      <td>35.1</td>\n",
       "      <td>2</td>\n",
       "    </tr>\n",
       "    <tr>\n",
       "      <th>12.2</th>\n",
       "      <td>Nevada</td>\n",
       "      <td>252</td>\n",
       "      <td>81</td>\n",
       "      <td>46.0</td>\n",
       "      <td>2</td>\n",
       "    </tr>\n",
       "    <tr>\n",
       "      <th>13.0</th>\n",
       "      <td>North Carolina</td>\n",
       "      <td>337</td>\n",
       "      <td>45</td>\n",
       "      <td>16.1</td>\n",
       "      <td>2</td>\n",
       "    </tr>\n",
       "    <tr>\n",
       "      <th>13.2</th>\n",
       "      <td>Alabama</td>\n",
       "      <td>236</td>\n",
       "      <td>58</td>\n",
       "      <td>21.2</td>\n",
       "      <td>2</td>\n",
       "    </tr>\n",
       "    <tr>\n",
       "      <th>14.4</th>\n",
       "      <td>South Carolina</td>\n",
       "      <td>279</td>\n",
       "      <td>48</td>\n",
       "      <td>22.5</td>\n",
       "      <td>2</td>\n",
       "    </tr>\n",
       "    <tr>\n",
       "      <th>15.4</th>\n",
       "      <td>Florida</td>\n",
       "      <td>335</td>\n",
       "      <td>80</td>\n",
       "      <td>31.9</td>\n",
       "      <td>2</td>\n",
       "    </tr>\n",
       "    <tr>\n",
       "      <th>16.1</th>\n",
       "      <td>Mississippi</td>\n",
       "      <td>259</td>\n",
       "      <td>44</td>\n",
       "      <td>17.1</td>\n",
       "      <td>2</td>\n",
       "    </tr>\n",
       "    <tr>\n",
       "      <th>17.4</th>\n",
       "      <td>Georgia</td>\n",
       "      <td>211</td>\n",
       "      <td>60</td>\n",
       "      <td>25.8</td>\n",
       "      <td>2</td>\n",
       "    </tr>\n",
       "    <tr>\n",
       "      <th rowspan=\"6\" valign=\"top\">2</th>\n",
       "      <th>0.8</th>\n",
       "      <td>North Dakota</td>\n",
       "      <td>45</td>\n",
       "      <td>44</td>\n",
       "      <td>7.3</td>\n",
       "      <td>0</td>\n",
       "    </tr>\n",
       "    <tr>\n",
       "      <th>2.1</th>\n",
       "      <td>New Hampshire</td>\n",
       "      <td>57</td>\n",
       "      <td>56</td>\n",
       "      <td>9.5</td>\n",
       "      <td>0</td>\n",
       "    </tr>\n",
       "    <tr>\n",
       "      <th>2.2</th>\n",
       "      <td>Iowa</td>\n",
       "      <td>56</td>\n",
       "      <td>57</td>\n",
       "      <td>11.3</td>\n",
       "      <td>0</td>\n",
       "    </tr>\n",
       "    <tr>\n",
       "      <th>2.6</th>\n",
       "      <td>Wisconsin</td>\n",
       "      <td>53</td>\n",
       "      <td>66</td>\n",
       "      <td>10.8</td>\n",
       "      <td>0</td>\n",
       "    </tr>\n",
       "    <tr>\n",
       "      <th>2.7</th>\n",
       "      <td>Minnesota</td>\n",
       "      <td>72</td>\n",
       "      <td>66</td>\n",
       "      <td>14.9</td>\n",
       "      <td>0</td>\n",
       "    </tr>\n",
       "    <tr>\n",
       "      <th>5.3</th>\n",
       "      <td>Hawaii</td>\n",
       "      <td>46</td>\n",
       "      <td>83</td>\n",
       "      <td>20.2</td>\n",
       "      <td>0</td>\n",
       "    </tr>\n",
       "    <tr>\n",
       "      <th rowspan=\"11\" valign=\"top\">3</th>\n",
       "      <th>2.1</th>\n",
       "      <td>Maine</td>\n",
       "      <td>83</td>\n",
       "      <td>51</td>\n",
       "      <td>7.8</td>\n",
       "      <td>1</td>\n",
       "    </tr>\n",
       "    <tr>\n",
       "      <th>2.2</th>\n",
       "      <td>Vermont</td>\n",
       "      <td>48</td>\n",
       "      <td>32</td>\n",
       "      <td>11.2</td>\n",
       "      <td>1</td>\n",
       "    </tr>\n",
       "    <tr>\n",
       "      <th>3.2</th>\n",
       "      <td>Utah</td>\n",
       "      <td>120</td>\n",
       "      <td>80</td>\n",
       "      <td>22.9</td>\n",
       "      <td>1</td>\n",
       "    </tr>\n",
       "    <tr>\n",
       "      <th>3.3</th>\n",
       "      <td>Connecticut</td>\n",
       "      <td>110</td>\n",
       "      <td>77</td>\n",
       "      <td>11.1</td>\n",
       "      <td>1</td>\n",
       "    </tr>\n",
       "    <tr>\n",
       "      <th>4.3</th>\n",
       "      <td>Nebraska</td>\n",
       "      <td>102</td>\n",
       "      <td>62</td>\n",
       "      <td>16.5</td>\n",
       "      <td>1</td>\n",
       "    </tr>\n",
       "    <tr>\n",
       "      <th>4.4</th>\n",
       "      <td>Massachusetts</td>\n",
       "      <td>149</td>\n",
       "      <td>85</td>\n",
       "      <td>16.3</td>\n",
       "      <td>1</td>\n",
       "    </tr>\n",
       "    <tr>\n",
       "      <th>6.0</th>\n",
       "      <td>Kansas</td>\n",
       "      <td>115</td>\n",
       "      <td>66</td>\n",
       "      <td>18.0</td>\n",
       "      <td>1</td>\n",
       "    </tr>\n",
       "    <tr>\n",
       "      <th>6.3</th>\n",
       "      <td>Pennsylvania</td>\n",
       "      <td>106</td>\n",
       "      <td>72</td>\n",
       "      <td>14.9</td>\n",
       "      <td>1</td>\n",
       "    </tr>\n",
       "    <tr>\n",
       "      <th>7.2</th>\n",
       "      <td>Indiana</td>\n",
       "      <td>113</td>\n",
       "      <td>65</td>\n",
       "      <td>21.0</td>\n",
       "      <td>1</td>\n",
       "    </tr>\n",
       "    <tr>\n",
       "      <th>7.3</th>\n",
       "      <td>Ohio</td>\n",
       "      <td>120</td>\n",
       "      <td>75</td>\n",
       "      <td>21.4</td>\n",
       "      <td>1</td>\n",
       "    </tr>\n",
       "    <tr>\n",
       "      <th>7.4</th>\n",
       "      <td>New Jersey</td>\n",
       "      <td>159</td>\n",
       "      <td>89</td>\n",
       "      <td>18.8</td>\n",
       "      <td>1</td>\n",
       "    </tr>\n",
       "  </tbody>\n",
       "</table>\n",
       "</div>"
      ],
      "text/plain": [
       "                                 City  Assault  UrbanPop  Rape  Clusters_hc\n",
       "Cluster_kmeans Murder                                                      \n",
       "0              2.6              Idaho      120        54  14.2            3\n",
       "               3.4       Rhode Island      174        87   8.3            1\n",
       "               3.8       South Dakota       86        45  12.8            3\n",
       "               4.0         Washington      145        73  26.2            3\n",
       "               4.9             Oregon      159        67  29.3            3\n",
       "               5.7      West Virginia       81        39   9.3            3\n",
       "               6.0            Montana      109        53  16.4            3\n",
       "               6.6           Oklahoma      151        68  20.0            3\n",
       "               6.8            Wyoming      161        60  15.6            2\n",
       "               7.9           Colorado      204        78  38.7            3\n",
       "               8.5           Virginia      156        63  20.7            3\n",
       "               9.0           Missouri      178        70  28.2            3\n",
       "               9.7           Kentucky      109        52  16.3            3\n",
       "               12.7             Texas      201        80  25.5            3\n",
       "1              5.9           Delaware      238        72  15.8            2\n",
       "               8.1            Arizona      294        80  31.0            2\n",
       "               8.8           Arkansas      190        50  19.5            2\n",
       "               9.0         California      276        91  40.6            2\n",
       "               10.0            Alaska      263        48  44.5            2\n",
       "               10.4          Illinois      249        83  24.0            2\n",
       "               11.1          New York      254        86  26.1            2\n",
       "               11.3          Maryland      300        67  27.8            2\n",
       "               11.4        New Mexico      285        70  32.1            2\n",
       "               12.1          Michigan      255        74  35.1            2\n",
       "               12.2            Nevada      252        81  46.0            2\n",
       "               13.0    North Carolina      337        45  16.1            2\n",
       "               13.2           Alabama      236        58  21.2            2\n",
       "               14.4    South Carolina      279        48  22.5            2\n",
       "               15.4           Florida      335        80  31.9            2\n",
       "               16.1       Mississippi      259        44  17.1            2\n",
       "               17.4           Georgia      211        60  25.8            2\n",
       "2              0.8       North Dakota       45        44   7.3            0\n",
       "               2.1      New Hampshire       57        56   9.5            0\n",
       "               2.2               Iowa       56        57  11.3            0\n",
       "               2.6          Wisconsin       53        66  10.8            0\n",
       "               2.7          Minnesota       72        66  14.9            0\n",
       "               5.3             Hawaii       46        83  20.2            0\n",
       "3              2.1              Maine       83        51   7.8            1\n",
       "               2.2            Vermont       48        32  11.2            1\n",
       "               3.2               Utah      120        80  22.9            1\n",
       "               3.3        Connecticut      110        77  11.1            1\n",
       "               4.3           Nebraska      102        62  16.5            1\n",
       "               4.4      Massachusetts      149        85  16.3            1\n",
       "               6.0             Kansas      115        66  18.0            1\n",
       "               6.3       Pennsylvania      106        72  14.9            1\n",
       "               7.2            Indiana      113        65  21.0            1\n",
       "               7.3               Ohio      120        75  21.4            1\n",
       "               7.4         New Jersey      159        89  18.8            1"
      ]
     },
     "execution_count": 26,
     "metadata": {},
     "output_type": "execute_result"
    }
   ],
   "source": [
    "CL2=crm.groupby(['Cluster_kmeans','Murder'])\n",
    "CL2.first()"
   ]
  },
  {
   "cell_type": "code",
   "execution_count": 27,
   "id": "0cd5867c",
   "metadata": {},
   "outputs": [
    {
     "data": {
      "text/plain": [
       "<matplotlib.collections.PathCollection at 0x286fa668c70>"
      ]
     },
     "execution_count": 27,
     "metadata": {},
     "output_type": "execute_result"
    },
    {
     "data": {
      "image/png": "[encoded data removed]",
      "text/plain": [
       "<Figure size 640x480 with 1 Axes>"
      ]
     },
     "metadata": {},
     "output_type": "display_data"
    }
   ],
   "source": [
    "plt.scatter(crm['Murder'],crm['UrbanPop'],c=kmeans1.labels_) #scatterplot to see the how kmeans algorithm have labelled datapoints "
   ]
  },
  {
   "cell_type": "code",
   "execution_count": 28,
   "id": "b79edcab",
   "metadata": {},
   "outputs": [
    {
     "data": {
      "text/plain": [
       "0.9180363213761794"
      ]
     },
     "execution_count": 28,
     "metadata": {},
     "output_type": "execute_result"
    }
   ],
   "source": [
    "#Silhoutte score to check the clusters are  correctly divided\n",
    "km_score=silhouette_score(crm_norm,kmeans1.labels_,metric='euclidean')\n",
    "km_score"
   ]
  },
  {
   "cell_type": "markdown",
   "id": "42292d3c",
   "metadata": {},
   "source": [
    "# Using PCA trnsformation to get most of data in 2 columns and at loss of some(0.05%) data to use it for vizualization\n"
   ]
  },
  {
   "cell_type": "code",
   "execution_count": 29,
   "id": "aed4e7a4",
   "metadata": {},
   "outputs": [
    {
     "data": {
      "text/plain": [
       "(50, 2)"
      ]
     },
     "execution_count": 29,
     "metadata": {},
     "output_type": "execute_result"
    }
   ],
   "source": [
    "from sklearn.decomposition import PCA\n",
    "pca=PCA(2)\n",
    "pca_crm_norm=pca.fit_transform(crm_norm)\n",
    "pca_crm_norm.shape"
   ]
  },
  {
   "cell_type": "markdown",
   "id": "e3bcf9a4",
   "metadata": {},
   "source": [
    "# Hierarchical Clustering Vizualization of Clusters"
   ]
  },
  {
   "cell_type": "code",
   "execution_count": 30,
   "id": "45f1f67b",
   "metadata": {},
   "outputs": [
    {
     "data": {
      "image/png": "[encoded data removed]",
      "text/plain": [
       "<Figure size 640x480 with 1 Axes>"
      ]
     },
     "metadata": {},
     "output_type": "display_data"
    }
   ],
   "source": [
    "d=np.unique(y_hc)\n",
    "\n",
    "for i in d:\n",
    "    plt.scatter(pca_crm_norm[y_hc==i,0],pca_crm_norm[y_hc==i,1],label=i)\n",
    "plt.legend()\n",
    "plt.show()\n"
   ]
  },
  {
   "cell_type": "code",
   "execution_count": 31,
   "id": "14a19bca",
   "metadata": {},
   "outputs": [
    {
     "data": {
      "text/html": [
       "<div>\n",
       "<style scoped>\n",
       "    .dataframe tbody tr th:only-of-type {\n",
       "        vertical-align: middle;\n",
       "    }\n",
       "\n",
       "    .dataframe tbody tr th {\n",
       "        vertical-align: top;\n",
       "    }\n",
       "\n",
       "    .dataframe thead th {\n",
       "        text-align: right;\n",
       "    }\n",
       "</style>\n",
       "<table border=\"1\" class=\"dataframe\">\n",
       "  <thead>\n",
       "    <tr style=\"text-align: right;\">\n",
       "      <th></th>\n",
       "      <th>City</th>\n",
       "      <th>Murder</th>\n",
       "      <th>Assault</th>\n",
       "      <th>UrbanPop</th>\n",
       "      <th>Rape</th>\n",
       "      <th>Clusters_hc</th>\n",
       "      <th>Cluster_kmeans</th>\n",
       "    </tr>\n",
       "  </thead>\n",
       "  <tbody>\n",
       "    <tr>\n",
       "      <th>0</th>\n",
       "      <td>Alabama</td>\n",
       "      <td>13.2</td>\n",
       "      <td>236</td>\n",
       "      <td>58</td>\n",
       "      <td>21.2</td>\n",
       "      <td>2</td>\n",
       "      <td>1</td>\n",
       "    </tr>\n",
       "    <tr>\n",
       "      <th>1</th>\n",
       "      <td>Alaska</td>\n",
       "      <td>10.0</td>\n",
       "      <td>263</td>\n",
       "      <td>48</td>\n",
       "      <td>44.5</td>\n",
       "      <td>2</td>\n",
       "      <td>1</td>\n",
       "    </tr>\n",
       "    <tr>\n",
       "      <th>2</th>\n",
       "      <td>Arizona</td>\n",
       "      <td>8.1</td>\n",
       "      <td>294</td>\n",
       "      <td>80</td>\n",
       "      <td>31.0</td>\n",
       "      <td>2</td>\n",
       "      <td>1</td>\n",
       "    </tr>\n",
       "    <tr>\n",
       "      <th>3</th>\n",
       "      <td>Arkansas</td>\n",
       "      <td>8.8</td>\n",
       "      <td>190</td>\n",
       "      <td>50</td>\n",
       "      <td>19.5</td>\n",
       "      <td>2</td>\n",
       "      <td>1</td>\n",
       "    </tr>\n",
       "    <tr>\n",
       "      <th>4</th>\n",
       "      <td>California</td>\n",
       "      <td>9.0</td>\n",
       "      <td>276</td>\n",
       "      <td>91</td>\n",
       "      <td>40.6</td>\n",
       "      <td>2</td>\n",
       "      <td>1</td>\n",
       "    </tr>\n",
       "  </tbody>\n",
       "</table>\n",
       "</div>"
      ],
      "text/plain": [
       "         City  Murder  Assault  UrbanPop  Rape  Clusters_hc  Cluster_kmeans\n",
       "0     Alabama    13.2      236        58  21.2            2               1\n",
       "1      Alaska    10.0      263        48  44.5            2               1\n",
       "2     Arizona     8.1      294        80  31.0            2               1\n",
       "3    Arkansas     8.8      190        50  19.5            2               1\n",
       "4  California     9.0      276        91  40.6            2               1"
      ]
     },
     "execution_count": 31,
     "metadata": {},
     "output_type": "execute_result"
    }
   ],
   "source": [
    "crm.head()"
   ]
  },
  {
   "cell_type": "code",
   "execution_count": 32,
   "id": "66004770",
   "metadata": {},
   "outputs": [
    {
     "name": "stderr",
     "output_type": "stream",
     "text": [
      "C:\\Users\\Hi\\AppData\\Local\\Temp\\ipykernel_3260\\1552152100.py:2: FutureWarning: Dropping of nuisance columns in DataFrame reductions (with 'numeric_only=None') is deprecated; in a future version this will raise TypeError.  Select only valid columns before calling the reduction.\n",
      "  crm[crm['Clusters_hc']==0].mean()\n"
     ]
    },
    {
     "data": {
      "text/plain": [
       "Murder             2.616667\n",
       "Assault           54.833333\n",
       "UrbanPop          62.000000\n",
       "Rape              12.333333\n",
       "Clusters_hc        0.000000\n",
       "Cluster_kmeans     2.000000\n",
       "dtype: float64"
      ]
     },
     "execution_count": 32,
     "metadata": {},
     "output_type": "execute_result"
    }
   ],
   "source": [
    "#Average of all the Crimes in Cluster=0 Cities\n",
    "crm[crm['Clusters_hc']==0].mean()"
   ]
  },
  {
   "cell_type": "code",
   "execution_count": 33,
   "id": "0533eae4",
   "metadata": {},
   "outputs": [
    {
     "name": "stderr",
     "output_type": "stream",
     "text": [
      "C:\\Users\\Hi\\AppData\\Local\\Temp\\ipykernel_3260\\3586034484.py:2: FutureWarning: Dropping of nuisance columns in DataFrame reductions (with 'numeric_only=None') is deprecated; in a future version this will raise TypeError.  Select only valid columns before calling the reduction.\n",
      "  crm[crm['Clusters_hc']==1].mean()\n"
     ]
    },
    {
     "data": {
      "text/plain": [
       "Murder              4.758333\n",
       "Assault           116.583333\n",
       "UrbanPop           70.083333\n",
       "Rape               15.683333\n",
       "Clusters_hc         1.000000\n",
       "Cluster_kmeans      2.750000\n",
       "dtype: float64"
      ]
     },
     "execution_count": 33,
     "metadata": {},
     "output_type": "execute_result"
    }
   ],
   "source": [
    "#Average of all the Crimes in Cluster=1 Cities\n",
    "crm[crm['Clusters_hc']==1].mean()"
   ]
  },
  {
   "cell_type": "code",
   "execution_count": 34,
   "id": "f644d8e8",
   "metadata": {},
   "outputs": [
    {
     "name": "stderr",
     "output_type": "stream",
     "text": [
      "C:\\Users\\Hi\\AppData\\Local\\Temp\\ipykernel_3260\\2342499175.py:2: FutureWarning: Dropping of nuisance columns in DataFrame reductions (with 'numeric_only=None') is deprecated; in a future version this will raise TypeError.  Select only valid columns before calling the reduction.\n",
      "  crm[crm['Clusters_hc']==2].mean()\n"
     ]
    },
    {
     "data": {
      "text/plain": [
       "Murder             11.76\n",
       "Assault           255.55\n",
       "UrbanPop           66.10\n",
       "Rape               27.09\n",
       "Clusters_hc         2.00\n",
       "Cluster_kmeans      0.95\n",
       "dtype: float64"
      ]
     },
     "execution_count": 34,
     "metadata": {},
     "output_type": "execute_result"
    }
   ],
   "source": [
    "#Average of all the Crimes in Cluster=2 Cities\n",
    "crm[crm['Clusters_hc']==2].mean()"
   ]
  },
  {
   "cell_type": "code",
   "execution_count": 35,
   "id": "d9c8279a",
   "metadata": {},
   "outputs": [
    {
     "name": "stderr",
     "output_type": "stream",
     "text": [
      "C:\\Users\\Hi\\AppData\\Local\\Temp\\ipykernel_3260\\3653377537.py:2: FutureWarning: Dropping of nuisance columns in DataFrame reductions (with 'numeric_only=None') is deprecated; in a future version this will raise TypeError.  Select only valid columns before calling the reduction.\n",
      "  crm[crm['Clusters_hc']==3].mean()\n"
     ]
    },
    {
     "data": {
      "text/plain": [
       "Murder              6.783333\n",
       "Assault           141.583333\n",
       "UrbanPop           61.833333\n",
       "Rape               21.466667\n",
       "Clusters_hc         3.000000\n",
       "Cluster_kmeans      0.000000\n",
       "dtype: float64"
      ]
     },
     "execution_count": 35,
     "metadata": {},
     "output_type": "execute_result"
    }
   ],
   "source": [
    "#Average of all the Crimes in Cluster=3 Cities\n",
    "crm[crm['Clusters_hc']==3].mean()"
   ]
  },
  {
   "cell_type": "markdown",
   "id": "6f11d50c",
   "metadata": {},
   "source": [
    "# Creating TAbles for Hierarchical Clusters by Cities"
   ]
  },
  {
   "cell_type": "code",
   "execution_count": 36,
   "id": "2b1b8e96",
   "metadata": {},
   "outputs": [],
   "source": [
    "from tabulate import tabulate\n",
    "table=[['Hierarchical-Clusters','Crime','Murder','Assault','UrbanPop','Rape'],\n",
    "       ['Cluster-0','Crime is Very Low','2.61','54.83',' 62.0','12.3']\n",
    "       ,['Cluster-1','Crime is low','4.75','116.58','70.08', '15.68'],\n",
    "       ['Cluster-2','Crime is Very High','11.76','255.55',' 66.10', '27.09'],\n",
    "       ['Cluster-3','Crime is High','6.78','141.58','61.83','21.46']]"
   ]
  },
  {
   "cell_type": "code",
   "execution_count": 37,
   "id": "89a16a7f",
   "metadata": {},
   "outputs": [
    {
     "name": "stdout",
     "output_type": "stream",
     "text": [
      "╒═════════════════════════╤════════════════════╤══════════╤═══════════╤════════════╤════════╕\n",
      "│ Hierarchical-Clusters   │ Crime              │   Murder │   Assault │   UrbanPop │   Rape │\n",
      "╞═════════════════════════╪════════════════════╪══════════╪═══════════╪════════════╪════════╡\n",
      "│ Cluster-0               │ Crime is Very Low  │     2.61 │     54.83 │      62    │  12.3  │\n",
      "├─────────────────────────┼────────────────────┼──────────┼───────────┼────────────┼────────┤\n",
      "│ Cluster-1               │ Crime is low       │     4.75 │    116.58 │      70.08 │  15.68 │\n",
      "├─────────────────────────┼────────────────────┼──────────┼───────────┼────────────┼────────┤\n",
      "│ Cluster-2               │ Crime is Very High │    11.76 │    255.55 │      66.1  │  27.09 │\n",
      "├─────────────────────────┼────────────────────┼──────────┼───────────┼────────────┼────────┤\n",
      "│ Cluster-3               │ Crime is High      │     6.78 │    141.58 │      61.83 │  21.46 │\n",
      "╘═════════════════════════╧════════════════════╧══════════╧═══════════╧════════════╧════════╛\n"
     ]
    }
   ],
   "source": [
    "print(tabulate(table,headers='firstrow',tablefmt='fancy_grid'))"
   ]
  },
  {
   "cell_type": "markdown",
   "id": "a893cc2d",
   "metadata": {},
   "source": [
    "Cities in Cluster-1 have more crime while Cities in Cluster -0 have very less crime infering cities in Cluster-0 are much safer than Cluster-2"
   ]
  },
  {
   "cell_type": "code",
   "execution_count": 38,
   "id": "f0a56958",
   "metadata": {},
   "outputs": [
    {
     "data": {
      "text/plain": [
       "10           Hawaii\n",
       "14             Iowa\n",
       "22        Minnesota\n",
       "28    New Hampshire\n",
       "33     North Dakota\n",
       "48        Wisconsin\n",
       "Name: City, dtype: object"
      ]
     },
     "execution_count": 38,
     "metadata": {},
     "output_type": "execute_result"
    }
   ],
   "source": [
    "crm[crm['Clusters_hc']==0].City"
   ]
  },
  {
   "cell_type": "code",
   "execution_count": 39,
   "id": "4e41c0bd",
   "metadata": {},
   "outputs": [],
   "source": [
    "table_hc_0=[['Cities in Cluster-0'],['Hawaii'],['Iowa'],['Minnesota'],['New Hampshire'],\n",
    "        ['North Dakota'],['Wisconsin']]"
   ]
  },
  {
   "cell_type": "code",
   "execution_count": 40,
   "id": "34ade751",
   "metadata": {},
   "outputs": [
    {
     "name": "stdout",
     "output_type": "stream",
     "text": [
      "╒════╤═══════════════════════╕\n",
      "│    │ Cities in Cluster-0   │\n",
      "╞════╪═══════════════════════╡\n",
      "│  1 │ Hawaii                │\n",
      "├────┼───────────────────────┤\n",
      "│  2 │ Iowa                  │\n",
      "├────┼───────────────────────┤\n",
      "│  3 │ Minnesota             │\n",
      "├────┼───────────────────────┤\n",
      "│  4 │ New Hampshire         │\n",
      "├────┼───────────────────────┤\n",
      "│  5 │ North Dakota          │\n",
      "├────┼───────────────────────┤\n",
      "│  6 │ Wisconsin             │\n",
      "╘════╧═══════════════════════╛\n"
     ]
    }
   ],
   "source": [
    "print(tabulate(table_hc_0,headers='firstrow',tablefmt='fancy_grid', showindex=range(1,7)))"
   ]
  },
  {
   "cell_type": "code",
   "execution_count": 41,
   "id": "f45b51d1",
   "metadata": {},
   "outputs": [
    {
     "data": {
      "text/plain": [
       "6       Connecticut\n",
       "13          Indiana\n",
       "15           Kansas\n",
       "18            Maine\n",
       "20    Massachusetts\n",
       "26         Nebraska\n",
       "29       New Jersey\n",
       "34             Ohio\n",
       "37     Pennsylvania\n",
       "38     Rhode Island\n",
       "43             Utah\n",
       "44          Vermont\n",
       "Name: City, dtype: object"
      ]
     },
     "execution_count": 41,
     "metadata": {},
     "output_type": "execute_result"
    }
   ],
   "source": [
    "crm[crm['Clusters_hc']==1].City"
   ]
  },
  {
   "cell_type": "code",
   "execution_count": 42,
   "id": "227bfa33",
   "metadata": {},
   "outputs": [],
   "source": [
    "table_hc_1=[['Cities in Cluster-1'],['Connecticut'],['Indiana'],['Kansas'],['Maine'],\n",
    "        ['Massachusetts'],['Nebraska'],['New Jersey'],[' Ohio'],['Pennsylvania'],['Rhode Island'],['Utah'],['Vermont']]"
   ]
  },
  {
   "cell_type": "code",
   "execution_count": 43,
   "id": "ab71c72e",
   "metadata": {},
   "outputs": [
    {
     "name": "stdout",
     "output_type": "stream",
     "text": [
      "╒════╤═══════════════════════╕\n",
      "│    │ Cities in Cluster-1   │\n",
      "╞════╪═══════════════════════╡\n",
      "│  1 │ Connecticut           │\n",
      "├────┼───────────────────────┤\n",
      "│  2 │ Indiana               │\n",
      "├────┼───────────────────────┤\n",
      "│  3 │ Kansas                │\n",
      "├────┼───────────────────────┤\n",
      "│  4 │ Maine                 │\n",
      "├────┼───────────────────────┤\n",
      "│  5 │ Massachusetts         │\n",
      "├────┼───────────────────────┤\n",
      "│  6 │ Nebraska              │\n",
      "├────┼───────────────────────┤\n",
      "│  7 │ New Jersey            │\n",
      "├────┼───────────────────────┤\n",
      "│  8 │ Ohio                  │\n",
      "├────┼───────────────────────┤\n",
      "│  9 │ Pennsylvania          │\n",
      "├────┼───────────────────────┤\n",
      "│ 10 │ Rhode Island          │\n",
      "├────┼───────────────────────┤\n",
      "│ 11 │ Utah                  │\n",
      "├────┼───────────────────────┤\n",
      "│ 12 │ Vermont               │\n",
      "╘════╧═══════════════════════╛\n"
     ]
    }
   ],
   "source": [
    "print(tabulate(table_hc_1,headers='firstrow',tablefmt='fancy_grid', showindex=range(1,13)))"
   ]
  },
  {
   "cell_type": "code",
   "execution_count": 44,
   "metadata": {},
   "outputs": [
    {
     "data": {
      "text/plain": [
       "0            Alabama\n",
       "1             Alaska\n",
       "2            Arizona\n",
       "3           Arkansas\n",
       "4         California\n",
       "7           Delaware\n",
       "8            Florida\n",
       "9            Georgia\n",
       "12          Illinois\n",
       "17         Louisiana\n",
       "19          Maryland\n",
       "21          Michigan\n",
       "23       Mississippi\n",
       "27            Nevada\n",
       "30        New Mexico\n",
       "31          New York\n",
       "32    North Carolina\n",
       "39    South Carolina\n",
       "41         Tennessee\n",
       "49           Wyoming\n",
       "Name: City, dtype: object"
      ]
     },
     "execution_count": 44,
     "metadata": {},
     "output_type": "execute_result"
    }
   ],
   "source": [
    "crm[crm['Clusters_hc']==2].City"
   ]
  },
  {
   "cell_type": "code",
   "execution_count": 45,
   "id": "abf09b4a",
   "metadata": {},
   "outputs": [],
   "source": [
    "\n",
    "table_hc_2=[['Cities in Cluster-2'],['Alabama'],\n",
    "['Alaska'],\n",
    "['Arizona'],\n",
    "['Arkansas'],\n",
    "['California'],\n",
    "['Delaware'],\n",
    "['Florida'],\n",
    "['Georgia'],\n",
    "['Illinois'],\n",
    "['Louisiana'],\n",
    "['Maryland'],\n",
    "['Michigan'],\n",
    "['Mississipp'],\n",
    "['Nevada'],\n",
    "['New Mexico'],\n",
    "['New York'],\n",
    "['North Carolina'],\n",
    "['South Carolina'],\n",
    "['Tennessee'],\n",
    "['Wyoming']]"
   ]
  },
  {
   "cell_type": "code",
   "execution_count": 46,
   "id": "2c45d80a",
   "metadata": {},
   "outputs": [
    {
     "name": "stdout",
     "output_type": "stream",
     "text": [
      "╒════╤═══════════════════════╕\n",
      "│    │ Cities in Cluster-2   │\n",
      "╞════╪═══════════════════════╡\n",
      "│  1 │ Alabama               │\n",
      "├────┼───────────────────────┤\n",
      "│  2 │ Alaska                │\n",
      "├────┼───────────────────────┤\n",
      "│  3 │ Arizona               │\n",
      "├────┼───────────────────────┤\n",
      "│  4 │ Arkansas              │\n",
      "├────┼───────────────────────┤\n",
      "│  5 │ California            │\n",
      "├────┼───────────────────────┤\n",
      "│  6 │ Delaware              │\n",
      "├────┼───────────────────────┤\n",
      "│  7 │ Florida               │\n",
      "├────┼───────────────────────┤\n",
      "│  8 │ Georgia               │\n",
      "├────┼───────────────────────┤\n",
      "│  9 │ Illinois              │\n",
      "├────┼───────────────────────┤\n",
      "│ 10 │ Louisiana             │\n",
      "├────┼───────────────────────┤\n",
      "│ 11 │ Maryland              │\n",
      "├────┼───────────────────────┤\n",
      "│ 12 │ Michigan              │\n",
      "├────┼───────────────────────┤\n",
      "│ 13 │ Mississipp            │\n",
      "├────┼───────────────────────┤\n",
      "│ 14 │ Nevada                │\n",
      "├────┼───────────────────────┤\n",
      "│ 15 │ New Mexico            │\n",
      "├────┼───────────────────────┤\n",
      "│ 16 │ New York              │\n",
      "├────┼───────────────────────┤\n",
      "│ 17 │ North Carolina        │\n",
      "├────┼───────────────────────┤\n",
      "│ 18 │ South Carolina        │\n",
      "├────┼───────────────────────┤\n",
      "│ 19 │ Tennessee             │\n",
      "├────┼───────────────────────┤\n",
      "│ 20 │ Wyoming               │\n",
      "╘════╧═══════════════════════╛\n"
     ]
    }
   ],
   "source": [
    "\n",
    "print(tabulate(table_hc_2,headers='firstrow',tablefmt='fancy_grid', showindex=range(1,21)))\n"
   ]
  },
  {
   "cell_type": "code",
   "execution_count": 47,
   "id": "a4c2fc5b",
   "metadata": {},
   "outputs": [
    {
     "data": {
      "text/plain": [
       "5          Colorado\n",
       "11            Idaho\n",
       "16         Kentucky\n",
       "24         Missouri\n",
       "25          Montana\n",
       "35         Oklahoma\n",
       "36           Oregon\n",
       "40     South Dakota\n",
       "42            Texas\n",
       "45         Virginia\n",
       "46       Washington\n",
       "47    West Virginia\n",
       "Name: City, dtype: object"
      ]
     },
     "execution_count": 47,
     "metadata": {},
     "output_type": "execute_result"
    }
   ],
   "source": [
    "crm[crm['Clusters_hc']==3].City\n"
   ]
  },
  {
   "cell_type": "code",
   "execution_count": 48,
   "id": "284612aa",
   "metadata": {},
   "outputs": [],
   "source": [
    "\n",
    "\n",
    "table_hc_3=[['Cities in Cluster-3'],['Colorado'],\n",
    "['Idaho'],\n",
    "['Kentucky'],\n",
    "['Missouri'],\n",
    "['Montana'],\n",
    "['Oklahoma'],\n",
    "['Oregon'],\n",
    "['South Dakota'],\n",
    "['Texas'],\n",
    "['Virginia'],\n",
    "['Washington'],\n",
    "['West Virginia']]"
   ]
  },
  {
   "cell_type": "code",
   "execution_count": 49,
   "id": "88c3b3f5",
   "metadata": {},
   "outputs": [
    {
     "name": "stdout",
     "output_type": "stream",
     "text": [
      "╒════╤═══════════════════════╕\n",
      "│    │ Cities in Cluster-3   │\n",
      "╞════╪═══════════════════════╡\n",
      "│  1 │ Colorado              │\n",
      "├────┼───────────────────────┤\n",
      "│  2 │ Idaho                 │\n",
      "├────┼───────────────────────┤\n",
      "│  3 │ Kentucky              │\n",
      "├────┼───────────────────────┤\n",
      "│  4 │ Missouri              │\n",
      "├────┼───────────────────────┤\n",
      "│  5 │ Montana               │\n",
      "├────┼───────────────────────┤\n",
      "│  6 │ Oklahoma              │\n",
      "├────┼───────────────────────┤\n",
      "│  7 │ Oregon                │\n",
      "├────┼───────────────────────┤\n",
      "│  8 │ South Dakota          │\n",
      "├────┼───────────────────────┤\n",
      "│  9 │ Texas                 │\n",
      "├────┼───────────────────────┤\n",
      "│ 10 │ Virginia              │\n",
      "├────┼───────────────────────┤\n",
      "│ 11 │ Washington            │\n",
      "├────┼───────────────────────┤\n",
      "│ 12 │ West Virginia         │\n",
      "╘════╧═══════════════════════╛\n"
     ]
    }
   ],
   "source": [
    "\n",
    "print(tabulate(table_hc_3,headers='firstrow',tablefmt='fancy_grid', showindex=range(1,13)))\n"
   ]
  },
  {
   "cell_type": "markdown",
   "id": "ba965c21",
   "metadata": {},
   "source": [
    "# Kmeans Clustering Vizualization of Clusters"
   ]
  },
  {
   "cell_type": "code",
   "execution_count": 50,
   "id": "c4367998",
   "metadata": {},
   "outputs": [
    {
     "data": {
      "image/png": "[encoded data removed]",
      "text/plain": [
       "<Figure size 640x480 with 1 Axes>"
      ]
     },
     "metadata": {},
     "output_type": "display_data"
    }
   ],
   "source": [
    "e=np.unique(kmeans1.labels_)\n",
    "for i in e:\n",
    "    plt.scatter(pca_crm_norm[kmeans1.labels_==i,0],pca_crm_norm[kmeans1.labels_==i,1],label=i)\n",
    "plt.legend()\n",
    "plt.show()"
   ]
  },
  {
   "cell_type": "code",
   "execution_count": 51,
   "id": "4e81839f",
   "metadata": {},
   "outputs": [
    {
     "name": "stderr",
     "output_type": "stream",
     "text": [
      "C:\\Users\\Hi\\AppData\\Local\\Temp\\ipykernel_3260\\1762525244.py:2: FutureWarning: Dropping of nuisance columns in DataFrame reductions (with 'numeric_only=None') is deprecated; in a future version this will raise TypeError.  Select only valid columns before calling the reduction.\n",
      "  crm[crm['Cluster_kmeans']==0].mean()\n"
     ]
    },
    {
     "data": {
      "text/plain": [
       "Murder              6.542857\n",
       "Assault           145.285714\n",
       "UrbanPop           63.500000\n",
       "Rape               20.107143\n",
       "Clusters_hc         2.785714\n",
       "Cluster_kmeans      0.000000\n",
       "dtype: float64"
      ]
     },
     "execution_count": 51,
     "metadata": {},
     "output_type": "execute_result"
    }
   ],
   "source": [
    "#Average of all the Crimes in Cluster=0 Cities\n",
    "crm[crm['Cluster_kmeans']==0].mean()"
   ]
  },
  {
   "cell_type": "code",
   "execution_count": 52,
   "id": "ca485e4f",
   "metadata": {},
   "outputs": [
    {
     "name": "stderr",
     "output_type": "stream",
     "text": [
      "C:\\Users\\Hi\\AppData\\Local\\Temp\\ipykernel_3260\\1098310455.py:2: FutureWarning: Dropping of nuisance columns in DataFrame reductions (with 'numeric_only=None') is deprecated; in a future version this will raise TypeError.  Select only valid columns before calling the reduction.\n",
      "  crm[crm['Cluster_kmeans']==1].mean()\n"
     ]
    },
    {
     "data": {
      "text/plain": [
       "Murder             12.021053\n",
       "Assault           260.526316\n",
       "UrbanPop           66.421053\n",
       "Rape               27.694737\n",
       "Clusters_hc         2.000000\n",
       "Cluster_kmeans      1.000000\n",
       "dtype: float64"
      ]
     },
     "execution_count": 52,
     "metadata": {},
     "output_type": "execute_result"
    }
   ],
   "source": [
    "#Average of all the Crimes in Cluster=1 Cities\n",
    "crm[crm['Cluster_kmeans']==1].mean()"
   ]
  },
  {
   "cell_type": "code",
   "execution_count": 53,
   "id": "611de890",
   "metadata": {},
   "outputs": [
    {
     "name": "stderr",
     "output_type": "stream",
     "text": [
      "C:\\Users\\Hi\\AppData\\Local\\Temp\\ipykernel_3260\\4048256765.py:2: FutureWarning: Dropping of nuisance columns in DataFrame reductions (with 'numeric_only=None') is deprecated; in a future version this will raise TypeError.  Select only valid columns before calling the reduction.\n",
      "  crm[crm['Cluster_kmeans']==2].mean()\n"
     ]
    },
    {
     "data": {
      "text/plain": [
       "Murder             2.616667\n",
       "Assault           54.833333\n",
       "UrbanPop          62.000000\n",
       "Rape              12.333333\n",
       "Clusters_hc        0.000000\n",
       "Cluster_kmeans     2.000000\n",
       "dtype: float64"
      ]
     },
     "execution_count": 53,
     "metadata": {},
     "output_type": "execute_result"
    }
   ],
   "source": [
    "#Average of all the Crimes in Cluster=2 Cities\n",
    "crm[crm['Cluster_kmeans']==2].mean()"
   ]
  },
  {
   "cell_type": "code",
   "execution_count": 54,
   "id": "27328525",
   "metadata": {},
   "outputs": [
    {
     "name": "stderr",
     "output_type": "stream",
     "text": [
      "C:\\Users\\Hi\\AppData\\Local\\Temp\\ipykernel_3260\\3993451987.py:2: FutureWarning: Dropping of nuisance columns in DataFrame reductions (with 'numeric_only=None') is deprecated; in a future version this will raise TypeError.  Select only valid columns before calling the reduction.\n",
      "  crm[crm['Cluster_kmeans']==3].mean()\n"
     ]
    },
    {
     "data": {
      "text/plain": [
       "Murder              4.881818\n",
       "Assault           111.363636\n",
       "UrbanPop           68.545455\n",
       "Rape               16.354545\n",
       "Clusters_hc         1.000000\n",
       "Cluster_kmeans      3.000000\n",
       "dtype: float64"
      ]
     },
     "execution_count": 54,
     "metadata": {},
     "output_type": "execute_result"
    }
   ],
   "source": [
    "#Average of all the Crimes in Cluster=3 Cities\n",
    "crm[crm['Cluster_kmeans']==3].mean()"
   ]
  },
  {
   "cell_type": "markdown",
   "id": "543ed300",
   "metadata": {},
   "source": [
    "# Creating Table for Kmeans Clusters"
   ]
  },
  {
   "cell_type": "code",
   "execution_count": 55,
   "id": "9067796c",
   "metadata": {},
   "outputs": [],
   "source": [
    "from tabulate import tabulate\n",
    "table2=[['Kmeans-Clusters','Crime','Murder','Assault','UrbanPop','Rape'],\n",
    "       ['Cluster-0','Crime is High','6.542','145.28','63.500','20.107']\n",
    "       ,['Cluster-1','Crime is Very High','12.021','260.526','66.421', '27.694'],\n",
    "       ['Cluster-2','Crime is Very Low','2.616','54.833','62.000', '12.333'],\n",
    "       ['Cluster-3','Crime is low','4.881','111.363','68.545','16.354']]"
   ]
  },
  {
   "cell_type": "code",
   "execution_count": 56,
   "id": "cd7b2d84",
   "metadata": {},
   "outputs": [
    {
     "name": "stdout",
     "output_type": "stream",
     "text": [
      "╒═══════════════════╤════════════════════╤══════════╤═══════════╤════════════╤════════╕\n",
      "│ Kmeans-Clusters   │ Crime              │   Murder │   Assault │   UrbanPop │   Rape │\n",
      "╞═══════════════════╪════════════════════╪══════════╪═══════════╪════════════╪════════╡\n",
      "│ Cluster-0         │ Crime is High      │    6.542 │   145.28  │     63.5   │ 20.107 │\n",
      "├───────────────────┼────────────────────┼──────────┼───────────┼────────────┼────────┤\n",
      "│ Cluster-1         │ Crime is Very High │   12.021 │   260.526 │     66.421 │ 27.694 │\n",
      "├───────────────────┼────────────────────┼──────────┼───────────┼────────────┼────────┤\n",
      "│ Cluster-2         │ Crime is Very Low  │    2.616 │    54.833 │     62     │ 12.333 │\n",
      "├───────────────────┼────────────────────┼──────────┼───────────┼────────────┼────────┤\n",
      "│ Cluster-3         │ Crime is low       │    4.881 │   111.363 │     68.545 │ 16.354 │\n",
      "╘═══════════════════╧════════════════════╧══════════╧═══════════╧════════════╧════════╛\n"
     ]
    }
   ],
   "source": [
    "print(tabulate(table2,headers='firstrow',tablefmt='fancy_grid'))"
   ]
  },
  {
   "cell_type": "markdown",
   "id": "b47fa55f",
   "metadata": {},
   "source": [
    "Cities in Cluster-1 have more crime while Cities in Cluster -2 have very less crime infering cities in Cluster-2 are much safer than Cluster-1"
   ]
  },
  {
   "cell_type": "code",
   "execution_count": 57,
   "id": "ccf72b5a",
   "metadata": {},
   "outputs": [
    {
     "data": {
      "text/plain": [
       "5          Colorado\n",
       "11            Idaho\n",
       "16         Kentucky\n",
       "24         Missouri\n",
       "25          Montana\n",
       "35         Oklahoma\n",
       "36           Oregon\n",
       "38     Rhode Island\n",
       "40     South Dakota\n",
       "42            Texas\n",
       "45         Virginia\n",
       "46       Washington\n",
       "47    West Virginia\n",
       "49          Wyoming\n",
       "Name: City, dtype: object"
      ]
     },
     "execution_count": 57,
     "metadata": {},
     "output_type": "execute_result"
    }
   ],
   "source": [
    "crm[crm['Cluster_kmeans']==0].City"
   ]
  },
  {
   "cell_type": "code",
   "execution_count": 58,
   "id": "fb7674c3",
   "metadata": {},
   "outputs": [],
   "source": [
    "table_km_0=[['Cities in Cluster-0'],['Colorado'],['Idaho'],['Kentucky'],['Missouri'],\n",
    "        ['Montana'],['Oklahoma'],['Oregon'],\n",
    "        ['Rhode Island'],['South Dakota'],['Texas'],['Virginia'],['Washington'],['West Virginia'],['Wyoming']]"
   ]
  },
  {
   "cell_type": "code",
   "execution_count": 59,
   "id": "24bceb2b",
   "metadata": {},
   "outputs": [
    {
     "name": "stdout",
     "output_type": "stream",
     "text": [
      "╒════╤═══════════════════════╕\n",
      "│    │ Cities in Cluster-0   │\n",
      "╞════╪═══════════════════════╡\n",
      "│  1 │ Colorado              │\n",
      "├────┼───────────────────────┤\n",
      "│  2 │ Idaho                 │\n",
      "├────┼───────────────────────┤\n",
      "│  3 │ Kentucky              │\n",
      "├────┼───────────────────────┤\n",
      "│  4 │ Missouri              │\n",
      "├────┼───────────────────────┤\n",
      "│  5 │ Montana               │\n",
      "├────┼───────────────────────┤\n",
      "│  6 │ Oklahoma              │\n",
      "├────┼───────────────────────┤\n",
      "│  7 │ Oregon                │\n",
      "├────┼───────────────────────┤\n",
      "│  8 │ Rhode Island          │\n",
      "├────┼───────────────────────┤\n",
      "│  9 │ South Dakota          │\n",
      "├────┼───────────────────────┤\n",
      "│ 10 │ Texas                 │\n",
      "├────┼───────────────────────┤\n",
      "│ 11 │ Virginia              │\n",
      "├────┼───────────────────────┤\n",
      "│ 12 │ Washington            │\n",
      "├────┼───────────────────────┤\n",
      "│ 13 │ West Virginia         │\n",
      "├────┼───────────────────────┤\n",
      "│ 14 │ Wyoming               │\n",
      "╘════╧═══════════════════════╛\n"
     ]
    }
   ],
   "source": [
    "print(tabulate(table_km_0,headers='firstrow',tablefmt='fancy_grid', showindex=range(1,15)))"
   ]
  },
  {
   "cell_type": "code",
   "execution_count": 60,
   "id": "b29a64c4",
   "metadata": {},
   "outputs": [
    {
     "data": {
      "text/plain": [
       "0            Alabama\n",
       "1             Alaska\n",
       "2            Arizona\n",
       "3           Arkansas\n",
       "4         California\n",
       "7           Delaware\n",
       "8            Florida\n",
       "9            Georgia\n",
       "12          Illinois\n",
       "17         Louisiana\n",
       "19          Maryland\n",
       "21          Michigan\n",
       "23       Mississippi\n",
       "27            Nevada\n",
       "30        New Mexico\n",
       "31          New York\n",
       "32    North Carolina\n",
       "39    South Carolina\n",
       "41         Tennessee\n",
       "Name: City, dtype: object"
      ]
     },
     "execution_count": 60,
     "metadata": {},
     "output_type": "execute_result"
    }
   ],
   "source": [
    "crm[crm['Cluster_kmeans']==1].City"
   ]
  },
  {
   "cell_type": "code",
   "execution_count": 61,
   "id": "f897ca5e",
   "metadata": {},
   "outputs": [],
   "source": [
    "table_km_1=[['Cities in Cluster1'],[' Alabama'],['Alaska'],\n",
    "['Arizona'],\n",
    "['Arkansas'],\n",
    "['California'],\n",
    "['Delaware'],\n",
    "['Florida'],\n",
    "['Georgia'],\n",
    "['Illinois'],\n",
    "['Louisiana'],\n",
    "['Maryland'],\n",
    "['Michigan'],\n",
    "['Mississippi'],\n",
    "['Nevada'],\n",
    "['New Mexico'],\n",
    "['New York'],\n",
    "['North Carolina'],\n",
    "['South Carolina'],\n",
    "['Tennessee']]"
   ]
  },
  {
   "cell_type": "code",
   "execution_count": 62,
   "id": "154be1f6",
   "metadata": {},
   "outputs": [
    {
     "name": "stdout",
     "output_type": "stream",
     "text": [
      "╒════╤══════════════════════╕\n",
      "│    │ Cities in Cluster1   │\n",
      "╞════╪══════════════════════╡\n",
      "│  1 │ Alabama              │\n",
      "├────┼──────────────────────┤\n",
      "│  2 │ Alaska               │\n",
      "├────┼──────────────────────┤\n",
      "│  3 │ Arizona              │\n",
      "├────┼──────────────────────┤\n",
      "│  4 │ Arkansas             │\n",
      "├────┼──────────────────────┤\n",
      "│  5 │ California           │\n",
      "├────┼──────────────────────┤\n",
      "│  6 │ Delaware             │\n",
      "├────┼──────────────────────┤\n",
      "│  7 │ Florida              │\n",
      "├────┼──────────────────────┤\n",
      "│  8 │ Georgia              │\n",
      "├────┼──────────────────────┤\n",
      "│  9 │ Illinois             │\n",
      "├────┼──────────────────────┤\n",
      "│ 10 │ Louisiana            │\n",
      "├────┼──────────────────────┤\n",
      "│ 11 │ Maryland             │\n",
      "├────┼──────────────────────┤\n",
      "│ 12 │ Michigan             │\n",
      "├────┼──────────────────────┤\n",
      "│ 13 │ Mississippi          │\n",
      "├────┼──────────────────────┤\n",
      "│ 14 │ Nevada               │\n",
      "├────┼──────────────────────┤\n",
      "│ 15 │ New Mexico           │\n",
      "├────┼──────────────────────┤\n",
      "│ 16 │ New York             │\n",
      "├────┼──────────────────────┤\n",
      "│ 17 │ North Carolina       │\n",
      "├────┼──────────────────────┤\n",
      "│ 18 │ South Carolina       │\n",
      "├────┼──────────────────────┤\n",
      "│ 19 │ Tennessee            │\n",
      "╘════╧══════════════════════╛\n"
     ]
    }
   ],
   "source": [
    "print(tabulate(table_km_1,headers='firstrow',tablefmt='fancy_grid',showindex=range(1,20)))"
   ]
  },
  {
   "cell_type": "code",
   "execution_count": 63,
   "id": "bdb5d56b",
   "metadata": {},
   "outputs": [
    {
     "data": {
      "text/plain": [
       "10           Hawaii\n",
       "14             Iowa\n",
       "22        Minnesota\n",
       "28    New Hampshire\n",
       "33     North Dakota\n",
       "48        Wisconsin\n",
       "Name: City, dtype: object"
      ]
     },
     "execution_count": 63,
     "metadata": {},
     "output_type": "execute_result"
    }
   ],
   "source": [
    "crm[crm['Cluster_kmeans']==2].City"
   ]
  },
  {
   "cell_type": "code",
   "execution_count": 64,
   "id": "4a408a63",
   "metadata": {},
   "outputs": [],
   "source": [
    "table_km_2=[['Cities in Cluster-2'],['Hawaii'],\n",
    "['Iowa'],\n",
    "['Minnesota'],\n",
    "['New Hampshire'],\n",
    "['North Dakota'],\n",
    "['Wisconsin']]   "
   ]
  },
  {
   "cell_type": "code",
   "execution_count": 65,
   "id": "6de60761",
   "metadata": {},
   "outputs": [
    {
     "name": "stdout",
     "output_type": "stream",
     "text": [
      "╒════╤═══════════════════════╕\n",
      "│    │ Cities in Cluster-2   │\n",
      "╞════╪═══════════════════════╡\n",
      "│  1 │ Hawaii                │\n",
      "├────┼───────────────────────┤\n",
      "│  2 │ Iowa                  │\n",
      "├────┼───────────────────────┤\n",
      "│  3 │ Minnesota             │\n",
      "├────┼───────────────────────┤\n",
      "│  4 │ New Hampshire         │\n",
      "├────┼───────────────────────┤\n",
      "│  5 │ North Dakota          │\n",
      "├────┼───────────────────────┤\n",
      "│  6 │ Wisconsin             │\n",
      "╘════╧═══════════════════════╛\n"
     ]
    }
   ],
   "source": [
    "\n",
    "print(tabulate(table_km_2,headers='firstrow',tablefmt='fancy_grid', showindex=range(1,7)))\n"
   ]
  },
  {
   "cell_type": "code",
   "execution_count": 66,
   "id": "730ae51c",
   "metadata": {},
   "outputs": [
    {
     "data": {
      "text/plain": [
       "6       Connecticut\n",
       "13          Indiana\n",
       "15           Kansas\n",
       "18            Maine\n",
       "20    Massachusetts\n",
       "26         Nebraska\n",
       "29       New Jersey\n",
       "34             Ohio\n",
       "37     Pennsylvania\n",
       "43             Utah\n",
       "44          Vermont\n",
       "Name: City, dtype: object"
      ]
     },
     "execution_count": 66,
     "metadata": {},
     "output_type": "execute_result"
    }
   ],
   "source": [
    "crm[crm['Cluster_kmeans']==3].City\n"
   ]
  },
  {
   "cell_type": "code",
   "execution_count": 67,
   "id": "6b1d68a9",
   "metadata": {},
   "outputs": [],
   "source": [
    "\n",
    "\n",
    "table_km_3=[['Cities in Cluster-3'],['Connecticut'],['Indiana'],['Kansas'],['Maine'],\n",
    "        ['Massachusetts'],['Nebraska'],['New Jersey'],[' Ohio'],['Pennsylvania'],['Utah'],['Vermont']]\n"
   ]
  },
  {
   "cell_type": "code",
   "execution_count": 68,
   "id": "99ca5e93",
   "metadata": {},
   "outputs": [
    {
     "name": "stdout",
     "output_type": "stream",
     "text": [
      "╒════╤═══════════════════════╕\n",
      "│    │ Cities in Cluster-3   │\n",
      "╞════╪═══════════════════════╡\n",
      "│  1 │ Connecticut           │\n",
      "├────┼───────────────────────┤\n",
      "│  2 │ Indiana               │\n",
      "├────┼───────────────────────┤\n",
      "│  3 │ Kansas                │\n",
      "├────┼───────────────────────┤\n",
      "│  4 │ Maine                 │\n",
      "├────┼───────────────────────┤\n",
      "│  5 │ Massachusetts         │\n",
      "├────┼───────────────────────┤\n",
      "│  6 │ Nebraska              │\n",
      "├────┼───────────────────────┤\n",
      "│  7 │ New Jersey            │\n",
      "├────┼───────────────────────┤\n",
      "│  8 │ Ohio                  │\n",
      "├────┼───────────────────────┤\n",
      "│  9 │ Pennsylvania          │\n",
      "├────┼───────────────────────┤\n",
      "│ 10 │ Utah                  │\n",
      "├────┼───────────────────────┤\n",
      "│ 11 │ Vermont               │\n",
      "╘════╧═══════════════════════╛\n"
     ]
    }
   ],
   "source": [
    "\n",
    "print(tabulate(table_km_3,headers='firstrow',tablefmt='fancy_grid', showindex=range(1,12)))\n"
   ]
  },
  {
   "cell_type": "markdown",
   "id": "7b1f36f0",
   "metadata": {},
   "source": [
    "# DBscan"
   ]
  },
  {
   "cell_type": "code",
   "execution_count": 69,
   "id": "94e0468c",
   "metadata": {},
   "outputs": [],
   "source": [
    "from sklearn.cluster import DBSCAN"
   ]
  },
  {
   "cell_type": "code",
   "execution_count": 70,
   "id": "b1877443",
   "metadata": {},
   "outputs": [
    {
     "data": {
      "text/plain": [
       "DBSCAN(min_samples=6)"
      ]
     },
     "execution_count": 70,
     "metadata": {},
     "output_type": "execute_result"
    }
   ],
   "source": [
    "dbscan=DBSCAN(eps=0.5,min_samples=6)\n",
    "dbscan.fit(crm_norm)"
   ]
  },
  {
   "cell_type": "code",
   "execution_count": 71,
   "id": "f1d63cd1",
   "metadata": {},
   "outputs": [
    {
     "data": {
      "text/html": [
       "<div>\n",
       "<style scoped>\n",
       "    .dataframe tbody tr th:only-of-type {\n",
       "        vertical-align: middle;\n",
       "    }\n",
       "\n",
       "    .dataframe tbody tr th {\n",
       "        vertical-align: top;\n",
       "    }\n",
       "\n",
       "    .dataframe thead th {\n",
       "        text-align: right;\n",
       "    }\n",
       "</style>\n",
       "<table border=\"1\" class=\"dataframe\">\n",
       "  <thead>\n",
       "    <tr style=\"text-align: right;\">\n",
       "      <th></th>\n",
       "      <th>City</th>\n",
       "      <th>Murder</th>\n",
       "      <th>Assault</th>\n",
       "      <th>UrbanPop</th>\n",
       "      <th>Rape</th>\n",
       "      <th>Clusters_hc</th>\n",
       "      <th>Cluster_kmeans</th>\n",
       "    </tr>\n",
       "  </thead>\n",
       "  <tbody>\n",
       "    <tr>\n",
       "      <th>0</th>\n",
       "      <td>Alabama</td>\n",
       "      <td>13.2</td>\n",
       "      <td>236</td>\n",
       "      <td>58</td>\n",
       "      <td>21.2</td>\n",
       "      <td>2</td>\n",
       "      <td>1</td>\n",
       "    </tr>\n",
       "    <tr>\n",
       "      <th>1</th>\n",
       "      <td>Alaska</td>\n",
       "      <td>10.0</td>\n",
       "      <td>263</td>\n",
       "      <td>48</td>\n",
       "      <td>44.5</td>\n",
       "      <td>2</td>\n",
       "      <td>1</td>\n",
       "    </tr>\n",
       "    <tr>\n",
       "      <th>2</th>\n",
       "      <td>Arizona</td>\n",
       "      <td>8.1</td>\n",
       "      <td>294</td>\n",
       "      <td>80</td>\n",
       "      <td>31.0</td>\n",
       "      <td>2</td>\n",
       "      <td>1</td>\n",
       "    </tr>\n",
       "    <tr>\n",
       "      <th>3</th>\n",
       "      <td>Arkansas</td>\n",
       "      <td>8.8</td>\n",
       "      <td>190</td>\n",
       "      <td>50</td>\n",
       "      <td>19.5</td>\n",
       "      <td>2</td>\n",
       "      <td>1</td>\n",
       "    </tr>\n",
       "    <tr>\n",
       "      <th>4</th>\n",
       "      <td>California</td>\n",
       "      <td>9.0</td>\n",
       "      <td>276</td>\n",
       "      <td>91</td>\n",
       "      <td>40.6</td>\n",
       "      <td>2</td>\n",
       "      <td>1</td>\n",
       "    </tr>\n",
       "  </tbody>\n",
       "</table>\n",
       "</div>"
      ],
      "text/plain": [
       "         City  Murder  Assault  UrbanPop  Rape  Clusters_hc  Cluster_kmeans\n",
       "0     Alabama    13.2      236        58  21.2            2               1\n",
       "1      Alaska    10.0      263        48  44.5            2               1\n",
       "2     Arizona     8.1      294        80  31.0            2               1\n",
       "3    Arkansas     8.8      190        50  19.5            2               1\n",
       "4  California     9.0      276        91  40.6            2               1"
      ]
     },
     "execution_count": 71,
     "metadata": {},
     "output_type": "execute_result"
    }
   ],
   "source": [
    "crm.head()"
   ]
  },
  {
   "cell_type": "code",
   "execution_count": 72,
   "id": "84fc82fd",
   "metadata": {},
   "outputs": [],
   "source": [
    "crm['Cluster_dbscan']=dbscan.labels_"
   ]
  },
  {
   "cell_type": "code",
   "execution_count": 73,
   "id": "c7447047",
   "metadata": {},
   "outputs": [
    {
     "data": {
      "text/html": [
       "<div>\n",
       "<style scoped>\n",
       "    .dataframe tbody tr th:only-of-type {\n",
       "        vertical-align: middle;\n",
       "    }\n",
       "\n",
       "    .dataframe tbody tr th {\n",
       "        vertical-align: top;\n",
       "    }\n",
       "\n",
       "    .dataframe thead th {\n",
       "        text-align: right;\n",
       "    }\n",
       "</style>\n",
       "<table border=\"1\" class=\"dataframe\">\n",
       "  <thead>\n",
       "    <tr style=\"text-align: right;\">\n",
       "      <th></th>\n",
       "      <th>City</th>\n",
       "      <th>Murder</th>\n",
       "      <th>Assault</th>\n",
       "      <th>UrbanPop</th>\n",
       "      <th>Rape</th>\n",
       "      <th>Clusters_hc</th>\n",
       "      <th>Cluster_kmeans</th>\n",
       "      <th>Cluster_dbscan</th>\n",
       "    </tr>\n",
       "  </thead>\n",
       "  <tbody>\n",
       "    <tr>\n",
       "      <th>0</th>\n",
       "      <td>Alabama</td>\n",
       "      <td>13.2</td>\n",
       "      <td>236</td>\n",
       "      <td>58</td>\n",
       "      <td>21.2</td>\n",
       "      <td>2</td>\n",
       "      <td>1</td>\n",
       "      <td>0</td>\n",
       "    </tr>\n",
       "    <tr>\n",
       "      <th>1</th>\n",
       "      <td>Alaska</td>\n",
       "      <td>10.0</td>\n",
       "      <td>263</td>\n",
       "      <td>48</td>\n",
       "      <td>44.5</td>\n",
       "      <td>2</td>\n",
       "      <td>1</td>\n",
       "      <td>0</td>\n",
       "    </tr>\n",
       "    <tr>\n",
       "      <th>2</th>\n",
       "      <td>Arizona</td>\n",
       "      <td>8.1</td>\n",
       "      <td>294</td>\n",
       "      <td>80</td>\n",
       "      <td>31.0</td>\n",
       "      <td>2</td>\n",
       "      <td>1</td>\n",
       "      <td>0</td>\n",
       "    </tr>\n",
       "    <tr>\n",
       "      <th>3</th>\n",
       "      <td>Arkansas</td>\n",
       "      <td>8.8</td>\n",
       "      <td>190</td>\n",
       "      <td>50</td>\n",
       "      <td>19.5</td>\n",
       "      <td>2</td>\n",
       "      <td>1</td>\n",
       "      <td>0</td>\n",
       "    </tr>\n",
       "    <tr>\n",
       "      <th>4</th>\n",
       "      <td>California</td>\n",
       "      <td>9.0</td>\n",
       "      <td>276</td>\n",
       "      <td>91</td>\n",
       "      <td>40.6</td>\n",
       "      <td>2</td>\n",
       "      <td>1</td>\n",
       "      <td>0</td>\n",
       "    </tr>\n",
       "  </tbody>\n",
       "</table>\n",
       "</div>"
      ],
      "text/plain": [
       "         City  Murder  Assault  UrbanPop  Rape  Clusters_hc  Cluster_kmeans  \\\n",
       "0     Alabama    13.2      236        58  21.2            2               1   \n",
       "1      Alaska    10.0      263        48  44.5            2               1   \n",
       "2     Arizona     8.1      294        80  31.0            2               1   \n",
       "3    Arkansas     8.8      190        50  19.5            2               1   \n",
       "4  California     9.0      276        91  40.6            2               1   \n",
       "\n",
       "   Cluster_dbscan  \n",
       "0               0  \n",
       "1               0  \n",
       "2               0  \n",
       "3               0  \n",
       "4               0  "
      ]
     },
     "execution_count": 73,
     "metadata": {},
     "output_type": "execute_result"
    }
   ],
   "source": [
    "crm.head()"
   ]
  },
  {
   "cell_type": "code",
   "execution_count": 74,
   "id": "5e10fcd0",
   "metadata": {},
   "outputs": [
    {
     "data": {
      "text/plain": [
       "array([0, 0, 0, 0, 0, 1, 2, 0, 0, 0, 3, 1, 0, 2, 3, 2, 1, 0, 2, 0, 2, 0,\n",
       "       3, 0, 1, 1, 2, 0, 3, 2, 0, 0, 0, 3, 2, 1, 1, 2, 1, 0, 1, 0, 1, 2,\n",
       "       2, 1, 1, 1, 3, 1], dtype=int64)"
      ]
     },
     "execution_count": 74,
     "metadata": {},
     "output_type": "execute_result"
    }
   ],
   "source": [
    "dbscan.labels_"
   ]
  },
  {
   "cell_type": "code",
   "execution_count": 75,
   "id": "9e734481",
   "metadata": {},
   "outputs": [
    {
     "name": "stderr",
     "output_type": "stream",
     "text": [
      "C:\\Users\\Hi\\AppData\\Local\\Temp\\ipykernel_3260\\3937674330.py:2: FutureWarning: Dropping of nuisance columns in DataFrame reductions (with 'numeric_only=None') is deprecated; in a future version this will raise TypeError.  Select only valid columns before calling the reduction.\n",
      "  crm[crm['Cluster_dbscan']==0].mean()\n"
     ]
    },
    {
     "data": {
      "text/plain": [
       "Murder             12.021053\n",
       "Assault           260.526316\n",
       "UrbanPop           66.421053\n",
       "Rape               27.694737\n",
       "Clusters_hc         2.000000\n",
       "Cluster_kmeans      1.000000\n",
       "Cluster_dbscan      0.000000\n",
       "dtype: float64"
      ]
     },
     "execution_count": 75,
     "metadata": {},
     "output_type": "execute_result"
    }
   ],
   "source": [
    "#Average of all the Crimes in Cluster=0 Cities\n",
    "crm[crm['Cluster_dbscan']==0].mean()"
   ]
  },
  {
   "cell_type": "code",
   "execution_count": 76,
   "id": "b795fe3c",
   "metadata": {},
   "outputs": [
    {
     "name": "stderr",
     "output_type": "stream",
     "text": [
      "C:\\Users\\Hi\\AppData\\Local\\Temp\\ipykernel_3260\\693399779.py:2: FutureWarning: Dropping of nuisance columns in DataFrame reductions (with 'numeric_only=None') is deprecated; in a future version this will raise TypeError.  Select only valid columns before calling the reduction.\n",
      "  crm[crm['Cluster_dbscan']==1].mean()\n"
     ]
    },
    {
     "data": {
      "text/plain": [
       "Murder              6.542857\n",
       "Assault           145.285714\n",
       "UrbanPop           63.500000\n",
       "Rape               20.107143\n",
       "Clusters_hc         2.785714\n",
       "Cluster_kmeans      0.000000\n",
       "Cluster_dbscan      1.000000\n",
       "dtype: float64"
      ]
     },
     "execution_count": 76,
     "metadata": {},
     "output_type": "execute_result"
    }
   ],
   "source": [
    "#Average of all the Crimes in Cluster=0 Cities\n",
    "crm[crm['Cluster_dbscan']==1].mean()"
   ]
  },
  {
   "cell_type": "code",
   "execution_count": 77,
   "id": "f4447a1e",
   "metadata": {},
   "outputs": [
    {
     "name": "stderr",
     "output_type": "stream",
     "text": [
      "C:\\Users\\Hi\\AppData\\Local\\Temp\\ipykernel_3260\\1005531247.py:2: FutureWarning: Dropping of nuisance columns in DataFrame reductions (with 'numeric_only=None') is deprecated; in a future version this will raise TypeError.  Select only valid columns before calling the reduction.\n",
      "  crm[crm['Cluster_dbscan']==2].mean()\n"
     ]
    },
    {
     "data": {
      "text/plain": [
       "Murder              4.881818\n",
       "Assault           111.363636\n",
       "UrbanPop           68.545455\n",
       "Rape               16.354545\n",
       "Clusters_hc         1.000000\n",
       "Cluster_kmeans      3.000000\n",
       "Cluster_dbscan      2.000000\n",
       "dtype: float64"
      ]
     },
     "execution_count": 77,
     "metadata": {},
     "output_type": "execute_result"
    }
   ],
   "source": [
    "#Average of all the Crimes in Cluster=0 Cities\n",
    "crm[crm['Cluster_dbscan']==2].mean()"
   ]
  },
  {
   "cell_type": "code",
   "execution_count": 78,
   "id": "9ec48b43",
   "metadata": {},
   "outputs": [
    {
     "name": "stderr",
     "output_type": "stream",
     "text": [
      "C:\\Users\\Hi\\AppData\\Local\\Temp\\ipykernel_3260\\258962780.py:2: FutureWarning: Dropping of nuisance columns in DataFrame reductions (with 'numeric_only=None') is deprecated; in a future version this will raise TypeError.  Select only valid columns before calling the reduction.\n",
      "  crm[crm['Cluster_dbscan']==3].mean()\n"
     ]
    },
    {
     "data": {
      "text/plain": [
       "Murder             2.616667\n",
       "Assault           54.833333\n",
       "UrbanPop          62.000000\n",
       "Rape              12.333333\n",
       "Clusters_hc        0.000000\n",
       "Cluster_kmeans     2.000000\n",
       "Cluster_dbscan     3.000000\n",
       "dtype: float64"
      ]
     },
     "execution_count": 78,
     "metadata": {},
     "output_type": "execute_result"
    }
   ],
   "source": [
    "#Average of all the Crimes in Cluster=0 Cities\n",
    "crm[crm['Cluster_dbscan']==3].mean()"
   ]
  },
  {
   "cell_type": "code",
   "execution_count": 79,
   "id": "0e2c640e",
   "metadata": {},
   "outputs": [
    {
     "data": {
      "text/plain": [
       "0.9180363213761794"
      ]
     },
     "execution_count": 79,
     "metadata": {},
     "output_type": "execute_result"
    }
   ],
   "source": [
    "#Silhoutte score to check the clusters are  correctly divided\n",
    "db_score = silhouette_score(crm_norm,dbscan.labels_,metric='euclidean')\n",
    "db_score"
   ]
  },
  {
   "cell_type": "markdown",
   "id": "d497d3df",
   "metadata": {},
   "source": [
    "# Creating Table for DBSCAN Clusters"
   ]
  },
  {
   "cell_type": "code",
   "execution_count": 80,
   "id": "adfa7e79",
   "metadata": {},
   "outputs": [],
   "source": [
    "table3=[['Kmeans-Clusters','Crime','Murder','Assault','UrbanPop','Rape'],\n",
    "       ['Cluster-0','Crime is Very High','12.021','260.526','66.421', '27.694']\n",
    "       ,['Cluster-1','Crime is High','6.542','145.28','63.500','20.107'],\n",
    "       ['Cluster-2','Crime is low','4.881','111.363','68.545','16.354'],\n",
    "       ['Cluster-3','Crime is Very Low','2.616','54.833','62.000', '12.333']]"
   ]
  },
  {
   "cell_type": "code",
   "execution_count": 81,
   "id": "181f7cec",
   "metadata": {},
   "outputs": [
    {
     "name": "stdout",
     "output_type": "stream",
     "text": [
      "╒═══════════════════╤════════════════════╤══════════╤═══════════╤════════════╤════════╕\n",
      "│ Kmeans-Clusters   │ Crime              │   Murder │   Assault │   UrbanPop │   Rape │\n",
      "╞═══════════════════╪════════════════════╪══════════╪═══════════╪════════════╪════════╡\n",
      "│ Cluster-0         │ Crime is Very High │   12.021 │   260.526 │     66.421 │ 27.694 │\n",
      "├───────────────────┼────────────────────┼──────────┼───────────┼────────────┼────────┤\n",
      "│ Cluster-1         │ Crime is High      │    6.542 │   145.28  │     63.5   │ 20.107 │\n",
      "├───────────────────┼────────────────────┼──────────┼───────────┼────────────┼────────┤\n",
      "│ Cluster-2         │ Crime is low       │    4.881 │   111.363 │     68.545 │ 16.354 │\n",
      "├───────────────────┼────────────────────┼──────────┼───────────┼────────────┼────────┤\n",
      "│ Cluster-3         │ Crime is Very Low  │    2.616 │    54.833 │     62     │ 12.333 │\n",
      "╘═══════════════════╧════════════════════╧══════════╧═══════════╧════════════╧════════╛\n"
     ]
    }
   ],
   "source": [
    "print(tabulate(table3,headers='firstrow',tablefmt='fancy_grid'))"
   ]
  },
  {
   "cell_type": "markdown",
   "id": "5b7a6ac1",
   "metadata": {},
   "source": [
    "# DBSCAN Clustering Vizualization of Clusters"
   ]
  },
  {
   "cell_type": "code",
   "execution_count": 82,
   "id": "5a489b46",
   "metadata": {},
   "outputs": [
    {
     "data": {
      "image/png": "[encoded data removed]",
      "text/plain": [
       "<Figure size 640x480 with 1 Axes>"
      ]
     },
     "metadata": {},
     "output_type": "display_data"
    }
   ],
   "source": [
    "f=np.unique(dbscan.labels_)\n",
    "for i in f:\n",
    "    plt.scatter(pca_crm_norm[dbscan.labels_==i,0],pca_crm_norm[dbscan.labels_==i,1],label=i)\n",
    "plt.legend()\n",
    "plt.show()"
   ]
  },
  {
   "cell_type": "code",
   "execution_count": 83,
   "id": "e0605a6d",
   "metadata": {},
   "outputs": [
    {
     "data": {
      "text/plain": [
       "0            Alabama\n",
       "1             Alaska\n",
       "2            Arizona\n",
       "3           Arkansas\n",
       "4         California\n",
       "7           Delaware\n",
       "8            Florida\n",
       "9            Georgia\n",
       "12          Illinois\n",
       "17         Louisiana\n",
       "19          Maryland\n",
       "21          Michigan\n",
       "23       Mississippi\n",
       "27            Nevada\n",
       "30        New Mexico\n",
       "31          New York\n",
       "32    North Carolina\n",
       "39    South Carolina\n",
       "41         Tennessee\n",
       "Name: City, dtype: object"
      ]
     },
     "execution_count": 83,
     "metadata": {},
     "output_type": "execute_result"
    }
   ],
   "source": [
    "crm[crm['Cluster_dbscan']==0].City"
   ]
  },
  {
   "cell_type": "code",
   "execution_count": 84,
   "id": "a1a87bf4",
   "metadata": {},
   "outputs": [],
   "source": [
    "table_db_0=[['Cities in Cluster-0'],[' Alabama'],['Alaska'],\n",
    "['Arizona'],\n",
    "['Arkansas'],\n",
    "['California'],\n",
    "['Delaware'],\n",
    "['Florida'],\n",
    "['Georgia'],\n",
    "['Illinois'],\n",
    "['Louisiana'],\n",
    "['Maryland'],\n",
    "['Michigan'],\n",
    "['Mississippi'],\n",
    "['Nevada'],\n",
    "['New Mexico'],\n",
    "['New York'],\n",
    "['North Carolina'],\n",
    "['South Carolina'],\n",
    "['Tennessee']]"
   ]
  },
  {
   "cell_type": "code",
   "execution_count": 85,
   "id": "c94932ab",
   "metadata": {},
   "outputs": [
    {
     "name": "stdout",
     "output_type": "stream",
     "text": [
      "╒════╤═══════════════════════╕\n",
      "│    │ Cities in Cluster-0   │\n",
      "╞════╪═══════════════════════╡\n",
      "│  1 │ Alabama               │\n",
      "├────┼───────────────────────┤\n",
      "│  2 │ Alaska                │\n",
      "├────┼───────────────────────┤\n",
      "│  3 │ Arizona               │\n",
      "├────┼───────────────────────┤\n",
      "│  4 │ Arkansas              │\n",
      "├────┼───────────────────────┤\n",
      "│  5 │ California            │\n",
      "├────┼───────────────────────┤\n",
      "│  6 │ Delaware              │\n",
      "├────┼───────────────────────┤\n",
      "│  7 │ Florida               │\n",
      "├────┼───────────────────────┤\n",
      "│  8 │ Georgia               │\n",
      "├────┼───────────────────────┤\n",
      "│  9 │ Illinois              │\n",
      "├────┼───────────────────────┤\n",
      "│ 10 │ Louisiana             │\n",
      "├────┼───────────────────────┤\n",
      "│ 11 │ Maryland              │\n",
      "├────┼───────────────────────┤\n",
      "│ 12 │ Michigan              │\n",
      "├────┼───────────────────────┤\n",
      "│ 13 │ Mississippi           │\n",
      "├────┼───────────────────────┤\n",
      "│ 14 │ Nevada                │\n",
      "├────┼───────────────────────┤\n",
      "│ 15 │ New Mexico            │\n",
      "├────┼───────────────────────┤\n",
      "│ 16 │ New York              │\n",
      "├────┼───────────────────────┤\n",
      "│ 17 │ North Carolina        │\n",
      "├────┼───────────────────────┤\n",
      "│ 18 │ South Carolina        │\n",
      "├────┼───────────────────────┤\n",
      "│ 19 │ Tennessee             │\n",
      "╘════╧═══════════════════════╛\n"
     ]
    }
   ],
   "source": [
    "print(tabulate(table_db_0,headers='firstrow',tablefmt='fancy_grid', showindex=range(1,20)))"
   ]
  },
  {
   "cell_type": "code",
   "execution_count": 86,
   "id": "37c3851b",
   "metadata": {},
   "outputs": [
    {
     "data": {
      "text/plain": [
       "5          Colorado\n",
       "11            Idaho\n",
       "16         Kentucky\n",
       "24         Missouri\n",
       "25          Montana\n",
       "35         Oklahoma\n",
       "36           Oregon\n",
       "38     Rhode Island\n",
       "40     South Dakota\n",
       "42            Texas\n",
       "45         Virginia\n",
       "46       Washington\n",
       "47    West Virginia\n",
       "49          Wyoming\n",
       "Name: City, dtype: object"
      ]
     },
     "execution_count": 86,
     "metadata": {},
     "output_type": "execute_result"
    }
   ],
   "source": [
    "crm[crm['Cluster_dbscan']==1].City"
   ]
  },
  {
   "cell_type": "code",
   "execution_count": 87,
   "id": "98188153",
   "metadata": {},
   "outputs": [],
   "source": [
    "table_db_1=[['Cities in Cluster-1'],['Colorado'],['Idaho'],['Kentucky'],['Missouri'],\n",
    "        ['Montana'],['Oklahoma'],['Oregon'],\n",
    "        ['Rhode Island'],['South Dakota'],['Texas'],['Virginia'],['Washington'],['West Virginia'],['Wyoming']]\n"
   ]
  },
  {
   "cell_type": "code",
   "execution_count": 88,
   "id": "ad55ca94",
   "metadata": {},
   "outputs": [
    {
     "name": "stdout",
     "output_type": "stream",
     "text": [
      "╒════╤═══════════════════════╕\n",
      "│    │ Cities in Cluster-1   │\n",
      "╞════╪═══════════════════════╡\n",
      "│  1 │ Colorado              │\n",
      "├────┼───────────────────────┤\n",
      "│  2 │ Idaho                 │\n",
      "├────┼───────────────────────┤\n",
      "│  3 │ Kentucky              │\n",
      "├────┼───────────────────────┤\n",
      "│  4 │ Missouri              │\n",
      "├────┼───────────────────────┤\n",
      "│  5 │ Montana               │\n",
      "├────┼───────────────────────┤\n",
      "│  6 │ Oklahoma              │\n",
      "├────┼───────────────────────┤\n",
      "│  7 │ Oregon                │\n",
      "├────┼───────────────────────┤\n",
      "│  8 │ Rhode Island          │\n",
      "├────┼───────────────────────┤\n",
      "│  9 │ South Dakota          │\n",
      "├────┼───────────────────────┤\n",
      "│ 10 │ Texas                 │\n",
      "├────┼───────────────────────┤\n",
      "│ 11 │ Virginia              │\n",
      "├────┼───────────────────────┤\n",
      "│ 12 │ Washington            │\n",
      "├────┼───────────────────────┤\n",
      "│ 13 │ West Virginia         │\n",
      "├────┼───────────────────────┤\n",
      "│ 14 │ Wyoming               │\n",
      "╘════╧═══════════════════════╛\n"
     ]
    }
   ],
   "source": [
    "print(tabulate(table_db_1,headers='firstrow',tablefmt='fancy_grid', showindex=range(1,15)))"
   ]
  },
  {
   "cell_type": "code",
   "execution_count": 89,
   "id": "8483c916",
   "metadata": {},
   "outputs": [
    {
     "data": {
      "text/plain": [
       "6       Connecticut\n",
       "13          Indiana\n",
       "15           Kansas\n",
       "18            Maine\n",
       "20    Massachusetts\n",
       "26         Nebraska\n",
       "29       New Jersey\n",
       "34             Ohio\n",
       "37     Pennsylvania\n",
       "43             Utah\n",
       "44          Vermont\n",
       "Name: City, dtype: object"
      ]
     },
     "execution_count": 89,
     "metadata": {},
     "output_type": "execute_result"
    }
   ],
   "source": [
    "crm[crm['Cluster_dbscan']==2].City"
   ]
  },
  {
   "cell_type": "code",
   "execution_count": 90,
   "id": "527c573f",
   "metadata": {},
   "outputs": [],
   "source": [
    "table_db_2=[['Cities in Cluster-2'],['Connecticut'],['Indiana'],['Kansas'],['Maine'],\n",
    "        ['Massachusetts'],['Nebraska'],['New Jersey'],[' Ohio'],['Pennsylvania'],['Rhode Island'],['Utah'],['Vermont']]"
   ]
  },
  {
   "cell_type": "code",
   "execution_count": 91,
   "id": "55b78b1c",
   "metadata": {},
   "outputs": [
    {
     "name": "stdout",
     "output_type": "stream",
     "text": [
      "╒════╤═══════════════════════╕\n",
      "│    │ Cities in Cluster-2   │\n",
      "╞════╪═══════════════════════╡\n",
      "│  1 │ Connecticut           │\n",
      "├────┼───────────────────────┤\n",
      "│  2 │ Indiana               │\n",
      "├────┼───────────────────────┤\n",
      "│  3 │ Kansas                │\n",
      "├────┼───────────────────────┤\n",
      "│  4 │ Maine                 │\n",
      "├────┼───────────────────────┤\n",
      "│  5 │ Massachusetts         │\n",
      "├────┼───────────────────────┤\n",
      "│  6 │ Nebraska              │\n",
      "├────┼───────────────────────┤\n",
      "│  7 │ New Jersey            │\n",
      "├────┼───────────────────────┤\n",
      "│  8 │ Ohio                  │\n",
      "├────┼───────────────────────┤\n",
      "│  9 │ Pennsylvania          │\n",
      "├────┼───────────────────────┤\n",
      "│ 10 │ Rhode Island          │\n",
      "├────┼───────────────────────┤\n",
      "│ 11 │ Utah                  │\n",
      "├────┼───────────────────────┤\n",
      "│ 12 │ Vermont               │\n",
      "╘════╧═══════════════════════╛\n"
     ]
    }
   ],
   "source": [
    "print(tabulate(table_db_2,headers='firstrow',tablefmt='fancy_grid', showindex=range(1,13)))"
   ]
  },
  {
   "cell_type": "code",
   "execution_count": 92,
   "id": "36f36ac5",
   "metadata": {},
   "outputs": [
    {
     "data": {
      "text/plain": [
       "10           Hawaii\n",
       "14             Iowa\n",
       "22        Minnesota\n",
       "28    New Hampshire\n",
       "33     North Dakota\n",
       "48        Wisconsin\n",
       "Name: City, dtype: object"
      ]
     },
     "execution_count": 92,
     "metadata": {},
     "output_type": "execute_result"
    }
   ],
   "source": [
    "crm[crm['Cluster_dbscan']==3].City"
   ]
  },
  {
   "cell_type": "code",
   "execution_count": 93,
   "id": "b3c28c75",
   "metadata": {},
   "outputs": [],
   "source": [
    "table_db_3=[['Cities in Cluster-3'],['Hawaii'],\n",
    "['Iowa'],\n",
    "['Minnesota'],\n",
    "['New Hampshire'],\n",
    "['North Dakota'],\n",
    "['Wisconsin']]   \n"
   ]
  },
  {
   "cell_type": "code",
   "execution_count": 94,
   "id": "ca3efcd7",
   "metadata": {},
   "outputs": [
    {
     "name": "stdout",
     "output_type": "stream",
     "text": [
      "╒════╤═══════════════════════╕\n",
      "│    │ Cities in Cluster-3   │\n",
      "╞════╪═══════════════════════╡\n",
      "│  1 │ Hawaii                │\n",
      "├────┼───────────────────────┤\n",
      "│  2 │ Iowa                  │\n",
      "├────┼───────────────────────┤\n",
      "│  3 │ Minnesota             │\n",
      "├────┼───────────────────────┤\n",
      "│  4 │ New Hampshire         │\n",
      "├────┼───────────────────────┤\n",
      "│  5 │ North Dakota          │\n",
      "├────┼───────────────────────┤\n",
      "│  6 │ Wisconsin             │\n",
      "╘════╧═══════════════════════╛\n"
     ]
    }
   ],
   "source": [
    "print(tabulate(table_db_3,headers='firstrow',tablefmt='fancy_grid', showindex=range(1,7)))"
   ]
  },
  {
   "cell_type": "code",
   "execution_count": 95,
   "id": "e758931b",
   "metadata": {},
   "outputs": [
    {
     "name": "stderr",
     "output_type": "stream",
     "text": [
      "C:\\Users\\Hi\\AppData\\Local\\Temp\\ipykernel_3260\\727081326.py:2: FutureWarning: Dropping of nuisance columns in DataFrame reductions (with 'numeric_only=None') is deprecated; in a future version this will raise TypeError.  Select only valid columns before calling the reduction.\n",
      "  crm[crm['Cluster_dbscan']==0].mean(),crm[crm['Cluster_kmeans']==1].mean(),crm[crm['Clusters_hc']==2].mean()\n"
     ]
    },
    {
     "data": {
      "text/plain": [
       "(Murder             12.021053\n",
       " Assault           260.526316\n",
       " UrbanPop           66.421053\n",
       " Rape               27.694737\n",
       " Clusters_hc         2.000000\n",
       " Cluster_kmeans      1.000000\n",
       " Cluster_dbscan      0.000000\n",
       " dtype: float64,\n",
       " Murder             12.021053\n",
       " Assault           260.526316\n",
       " UrbanPop           66.421053\n",
       " Rape               27.694737\n",
       " Clusters_hc         2.000000\n",
       " Cluster_kmeans      1.000000\n",
       " Cluster_dbscan      0.000000\n",
       " dtype: float64,\n",
       " Murder             11.76\n",
       " Assault           255.55\n",
       " UrbanPop           66.10\n",
       " Rape               27.09\n",
       " Clusters_hc         2.00\n",
       " Cluster_kmeans      0.95\n",
       " Cluster_dbscan      0.05\n",
       " dtype: float64)"
      ]
     },
     "execution_count": 95,
     "metadata": {},
     "output_type": "execute_result"
    }
   ],
   "source": [
    "#Comparing DBSCAN Cluster=0 with clusters found from kmeans and hierarchical Clusters\n",
    "crm[crm['Cluster_dbscan']==0].mean(),crm[crm['Cluster_kmeans']==1].mean(),crm[crm['Clusters_hc']==2].mean()\n",
    "#here Cluster-0 of Dbscan is equal to Cluster-1 of Kmeans which is nearly equal to Cluster-2 of Hierarchical "
   ]
  },
  {
   "cell_type": "code",
   "execution_count": 96,
   "id": "bc8e2648",
   "metadata": {},
   "outputs": [
    {
     "name": "stderr",
     "output_type": "stream",
     "text": [
      "C:\\Users\\Hi\\AppData\\Local\\Temp\\ipykernel_3260\\382892165.py:2: FutureWarning: Dropping of nuisance columns in DataFrame reductions (with 'numeric_only=None') is deprecated; in a future version this will raise TypeError.  Select only valid columns before calling the reduction.\n",
      "  crm[crm['Cluster_dbscan']==1].mean(),crm[crm['Cluster_kmeans']==0].mean(),crm[crm['Clusters_hc']==3].mean()\n"
     ]
    },
    {
     "data": {
      "text/plain": [
       "(Murder              6.542857\n",
       " Assault           145.285714\n",
       " UrbanPop           63.500000\n",
       " Rape               20.107143\n",
       " Clusters_hc         2.785714\n",
       " Cluster_kmeans      0.000000\n",
       " Cluster_dbscan      1.000000\n",
       " dtype: float64,\n",
       " Murder              6.542857\n",
       " Assault           145.285714\n",
       " UrbanPop           63.500000\n",
       " Rape               20.107143\n",
       " Clusters_hc         2.785714\n",
       " Cluster_kmeans      0.000000\n",
       " Cluster_dbscan      1.000000\n",
       " dtype: float64,\n",
       " Murder              6.783333\n",
       " Assault           141.583333\n",
       " UrbanPop           61.833333\n",
       " Rape               21.466667\n",
       " Clusters_hc         3.000000\n",
       " Cluster_kmeans      0.000000\n",
       " Cluster_dbscan      1.000000\n",
       " dtype: float64)"
      ]
     },
     "execution_count": 96,
     "metadata": {},
     "output_type": "execute_result"
    }
   ],
   "source": [
    "#Comparing DBSCAN Cluster=1 with clusters found from kmeans and hierarchical Clusters\n",
    "crm[crm['Cluster_dbscan']==1].mean(),crm[crm['Cluster_kmeans']==0].mean(),crm[crm['Clusters_hc']==3].mean()\n",
    "#here Cluster-1 of Dbscan is equal to Cluster-0 of Kmeans which is nearly equal to Cluster-3 of Hierarchical "
   ]
  },
  {
   "cell_type": "code",
   "execution_count": 97,
   "id": "22f516e3",
   "metadata": {},
   "outputs": [
    {
     "name": "stderr",
     "output_type": "stream",
     "text": [
      "C:\\Users\\Hi\\AppData\\Local\\Temp\\ipykernel_3260\\94322483.py:2: FutureWarning: Dropping of nuisance columns in DataFrame reductions (with 'numeric_only=None') is deprecated; in a future version this will raise TypeError.  Select only valid columns before calling the reduction.\n",
      "  crm[crm['Cluster_dbscan']==2].mean(),crm[crm['Cluster_kmeans']==3].mean(),crm[crm['Clusters_hc']==1].mean()\n"
     ]
    },
    {
     "data": {
      "text/plain": [
       "(Murder              4.881818\n",
       " Assault           111.363636\n",
       " UrbanPop           68.545455\n",
       " Rape               16.354545\n",
       " Clusters_hc         1.000000\n",
       " Cluster_kmeans      3.000000\n",
       " Cluster_dbscan      2.000000\n",
       " dtype: float64,\n",
       " Murder              4.881818\n",
       " Assault           111.363636\n",
       " UrbanPop           68.545455\n",
       " Rape               16.354545\n",
       " Clusters_hc         1.000000\n",
       " Cluster_kmeans      3.000000\n",
       " Cluster_dbscan      2.000000\n",
       " dtype: float64,\n",
       " Murder              4.758333\n",
       " Assault           116.583333\n",
       " UrbanPop           70.083333\n",
       " Rape               15.683333\n",
       " Clusters_hc         1.000000\n",
       " Cluster_kmeans      2.750000\n",
       " Cluster_dbscan      1.916667\n",
       " dtype: float64)"
      ]
     },
     "execution_count": 97,
     "metadata": {},
     "output_type": "execute_result"
    }
   ],
   "source": [
    "#Comparing DBSCAN Cluster=2 with clusters found from kmeans and hierarchical Clusters\n",
    "crm[crm['Cluster_dbscan']==2].mean(),crm[crm['Cluster_kmeans']==3].mean(),crm[crm['Clusters_hc']==1].mean()\n",
    "#here Cluster-2 of Dbscan is equal to Cluster-3 of Kmeans which is nearly equal to Cluster-1 of Hierarchical "
   ]
  },
  {
   "cell_type": "code",
   "execution_count": 98,
   "id": "b081d758",
   "metadata": {},
   "outputs": [
    {
     "name": "stderr",
     "output_type": "stream",
     "text": [
      "C:\\Users\\Hi\\AppData\\Local\\Temp\\ipykernel_3260\\3762193050.py:2: FutureWarning: Dropping of nuisance columns in DataFrame reductions (with 'numeric_only=None') is deprecated; in a future version this will raise TypeError.  Select only valid columns before calling the reduction.\n",
      "  crm[crm['Cluster_dbscan']==3].mean(),crm[crm['Cluster_kmeans']==2].mean(),crm[crm['Clusters_hc']==0].mean()\n"
     ]
    },
    {
     "data": {
      "text/plain": [
       "(Murder             2.616667\n",
       " Assault           54.833333\n",
       " UrbanPop          62.000000\n",
       " Rape              12.333333\n",
       " Clusters_hc        0.000000\n",
       " Cluster_kmeans     2.000000\n",
       " Cluster_dbscan     3.000000\n",
       " dtype: float64,\n",
       " Murder             2.616667\n",
       " Assault           54.833333\n",
       " UrbanPop          62.000000\n",
       " Rape              12.333333\n",
       " Clusters_hc        0.000000\n",
       " Cluster_kmeans     2.000000\n",
       " Cluster_dbscan     3.000000\n",
       " dtype: float64,\n",
       " Murder             2.616667\n",
       " Assault           54.833333\n",
       " UrbanPop          62.000000\n",
       " Rape              12.333333\n",
       " Clusters_hc        0.000000\n",
       " Cluster_kmeans     2.000000\n",
       " Cluster_dbscan     3.000000\n",
       " dtype: float64)"
      ]
     },
     "execution_count": 98,
     "metadata": {},
     "output_type": "execute_result"
    }
   ],
   "source": [
    "#Comparing DBSCAN Cluster=3 with clusters found from kmeans and hierarchical Clusters\n",
    "crm[crm['Cluster_dbscan']==3].mean(),crm[crm['Cluster_kmeans']==2].mean(),crm[crm['Clusters_hc']==0].mean()\n",
    "#here Cluster-3 of Dbscan is equal to Cluster-2 of Kmeans which is nearly equal to Cluster-0 of Hierarchical "
   ]
  },
  {
   "cell_type": "code",
   "execution_count": 99,
   "id": "0f251e43",
   "metadata": {},
   "outputs": [
    {
     "name": "stdout",
     "output_type": "stream",
     "text": [
      "╒═════════════════════════╤════════════════════╤══════════╤═══════════╤════════════╤════════╕\n",
      "│ Hierarchical-Clusters   │ Crime              │   Murder │   Assault │   UrbanPop │   Rape │\n",
      "╞═════════════════════════╪════════════════════╪══════════╪═══════════╪════════════╪════════╡\n",
      "│ Cluster-0               │ Crime is Very Low  │     2.61 │     54.83 │      62    │  12.3  │\n",
      "├─────────────────────────┼────────────────────┼──────────┼───────────┼────────────┼────────┤\n",
      "│ Cluster-1               │ Crime is low       │     4.75 │    116.58 │      70.08 │  15.68 │\n",
      "├─────────────────────────┼────────────────────┼──────────┼───────────┼────────────┼────────┤\n",
      "│ Cluster-2               │ Crime is Very High │    11.76 │    255.55 │      66.1  │  27.09 │\n",
      "├─────────────────────────┼────────────────────┼──────────┼───────────┼────────────┼────────┤\n",
      "│ Cluster-3               │ Crime is High      │     6.78 │    141.58 │      61.83 │  21.46 │\n",
      "╘═════════════════════════╧════════════════════╧══════════╧═══════════╧════════════╧════════╛\n",
      "╒═══════════════════╤════════════════════╤══════════╤═══════════╤════════════╤════════╕\n",
      "│ Kmeans-Clusters   │ Crime              │   Murder │   Assault │   UrbanPop │   Rape │\n",
      "╞═══════════════════╪════════════════════╪══════════╪═══════════╪════════════╪════════╡\n",
      "│ Cluster-0         │ Crime is High      │    6.542 │   145.28  │     63.5   │ 20.107 │\n",
      "├───────────────────┼────────────────────┼──────────┼───────────┼────────────┼────────┤\n",
      "│ Cluster-1         │ Crime is Very High │   12.021 │   260.526 │     66.421 │ 27.694 │\n",
      "├───────────────────┼────────────────────┼──────────┼───────────┼────────────┼────────┤\n",
      "│ Cluster-2         │ Crime is Very Low  │    2.616 │    54.833 │     62     │ 12.333 │\n",
      "├───────────────────┼────────────────────┼──────────┼───────────┼────────────┼────────┤\n",
      "│ Cluster-3         │ Crime is low       │    4.881 │   111.363 │     68.545 │ 16.354 │\n",
      "╘═══════════════════╧════════════════════╧══════════╧═══════════╧════════════╧════════╛\n",
      "╒═══════════════════╤════════════════════╤══════════╤═══════════╤════════════╤════════╕\n",
      "│ Kmeans-Clusters   │ Crime              │   Murder │   Assault │   UrbanPop │   Rape │\n",
      "╞═══════════════════╪════════════════════╪══════════╪═══════════╪════════════╪════════╡\n",
      "│ Cluster-0         │ Crime is Very High │   12.021 │   260.526 │     66.421 │ 27.694 │\n",
      "├───────────────────┼────────────────────┼──────────┼───────────┼────────────┼────────┤\n",
      "│ Cluster-1         │ Crime is High      │    6.542 │   145.28  │     63.5   │ 20.107 │\n",
      "├───────────────────┼────────────────────┼──────────┼───────────┼────────────┼────────┤\n",
      "│ Cluster-2         │ Crime is low       │    4.881 │   111.363 │     68.545 │ 16.354 │\n",
      "├───────────────────┼────────────────────┼──────────┼───────────┼────────────┼────────┤\n",
      "│ Cluster-3         │ Crime is Very Low  │    2.616 │    54.833 │     62     │ 12.333 │\n",
      "╘═══════════════════╧════════════════════╧══════════╧═══════════╧════════════╧════════╛\n"
     ]
    }
   ],
   "source": [
    "#Comparing all Clusters from 3 Clustering Algorithm \n",
    "print(tabulate(table,headers='firstrow',tablefmt='fancy_grid')),\n",
    "print(tabulate(table2,headers='firstrow',tablefmt='fancy_grid')),\n",
    "print(tabulate(table3,headers='firstrow',tablefmt='fancy_grid'))"
   ]
  },
  {
   "cell_type": "code",
   "execution_count": 100,
   "id": "5c4f15d4",
   "metadata": {},
   "outputs": [],
   "source": [
    "from tabulate import tabulate\n",
    "table_last=[['Clustering Algorithm','No. of Clusters','Silhouette Score'],\n",
    "['DBSCAN','4',db_score],\n",
    "['KMeans','4',km_score],\n",
    "['Hierarchical Clustering','4',hc_score]]"
   ]
  },
  {
   "cell_type": "code",
   "execution_count": 102,
   "id": "f1fd5482",
   "metadata": {},
   "outputs": [
    {
     "name": "stdout",
     "output_type": "stream",
     "text": [
      "╒════╤═════════════════════════╤═══════════════════╤════════════════════╕\n",
      "│    │ Clustering Algorithm    │   No. of Clusters │   Silhouette Score │\n",
      "╞════╪═════════════════════════╪═══════════════════╪════════════════════╡\n",
      "│  1 │ DBSCAN                  │                 4 │           0.918036 │\n",
      "├────┼─────────────────────────┼───────────────────┼────────────────────┤\n",
      "│  2 │ KMeans                  │                 4 │           0.918036 │\n",
      "├────┼─────────────────────────┼───────────────────┼────────────────────┤\n",
      "│  3 │ Hierarchical Clustering │                 4 │           0.449239 │\n",
      "╘════╧═════════════════════════╧═══════════════════╧════════════════════╛\n"
     ]
    }
   ],
   "source": [
    "print(tabulate(table_last,headers='firstrow',tablefmt='fancy_grid',showindex=range(1,4)))"
   ]
  },
  {
   "cell_type": "markdown",
   "id": "5ac3d4bb",
   "metadata": {},
   "source": [
    "#  For this dataset I have found that the clustering done through Hierarchical clustering is approx near to the results of KMeans and DBSCAN clustering when compared to Kmeans and DBscan which work very well on non-linear data the outputs of both Kmeans & DBscan, the Clusters were same to the extent that mean of the each feature Column were equal at 6th decimal too , The Cities found in KMeans and DBSCAN clusters were same when compared.\n",
    " "
   ]
  },
  {
   "cell_type": "markdown",
   "id": "d9fefa59",
   "metadata": {},
   "source": []
  }
 ],
 "metadata": {
  "kernelspec": {
   "display_name": "Python 3.9.12 ('base')",
   "language": "python",
   "name": "python3"
  },
  "language_info": {
   "codemirror_mode": {
    "name": "ipython",
    "version": 3
   },
   "file_extension": ".py",
   "mimetype": "text/x-python",
   "name": "python",
   "nbconvert_exporter": "python",
   "pygments_lexer": "ipython3",
   "version": "3.9.12"
  },
  "vscode": {
   "interpreter": {
    "hash": "978d9105b068cbc356370494e3cb52e52fa7590bb9da26e4b7328c8ae4e62003"
   }
  }
 },
 "nbformat": 4,
 "nbformat_minor": 5
}
